{
 "cells": [
  {
   "cell_type": "code",
   "execution_count": 499,
   "metadata": {},
   "outputs": [],
   "source": [
    "import pandas as pd\n",
    "import numpy as np"
   ]
  },
  {
   "cell_type": "code",
   "execution_count": 500,
   "metadata": {},
   "outputs": [
    {
     "data": {
      "application/vnd.microsoft.datawrangler.viewer.v0+json": {
       "columns": [
        {
         "name": "index",
         "rawType": "int64",
         "type": "integer"
        },
        {
         "name": "Dấu thời gian",
         "rawType": "object",
         "type": "string"
        },
        {
         "name": "Điểm số",
         "rawType": "int64",
         "type": "integer"
        },
        {
         "name": "Bạn có phải sinh viên UEH không ?",
         "rawType": "object",
         "type": "string"
        },
        {
         "name": "Trong 1 tháng qua, bạn có đặt trà sữa thông qua ứng dụng giao hàng không ?",
         "rawType": "object",
         "type": "string"
        },
        {
         "name": "Bạn có thích uống trà sữa không?",
         "rawType": "object",
         "type": "unknown"
        },
        {
         "name": "Lý do bạn chưa từng đặt trà sữa qua ứng dụng giao hàng là gì?",
         "rawType": "object",
         "type": "unknown"
        },
        {
         "name": "Bạn thường mua trà sữa bằng cách nào?  ",
         "rawType": "object",
         "type": "unknown"
        },
        {
         "name": "Điều gì có thể khiến bạn cân nhắc đặt trà sữa qua ứng dụng giao hàng? (Chọn nhiều đáp án nếu có)",
         "rawType": "object",
         "type": "unknown"
        },
        {
         "name": "  Bạn có dự định sử dụng ứng dụng giao hàng để đặt trà sữa trong tương lai không?  ",
         "rawType": "object",
         "type": "unknown"
        },
        {
         "name": "Bạn đã nghe qua thương hiệu nào dưới đây chưa?",
         "rawType": "object",
         "type": "unknown"
        },
        {
         "name": "mức tiền bạn sẵn sàn chi trả nếu bạn đặt trà sữa thông qua ứng dụng",
         "rawType": "object",
         "type": "unknown"
        },
        {
         "name": "Thời gian bạn sẵn sàng chờ đợi nếu có đặt trà sữa thông qua ứng dụng",
         "rawType": "object",
         "type": "unknown"
        },
        {
         "name": "Bạn đã từng mua hàng trực tiếp từ những thương hiệu nào ",
         "rawType": "object",
         "type": "unknown"
        },
        {
         "name": "Bạn có đã từng đặt trà sữa qua ứng dụng giao hàng nào?",
         "rawType": "object",
         "type": "unknown"
        },
        {
         "name": "Trong tuần trước bạn đã đặt trà sữa qua ứng dụng bao nhiêu lần?",
         "rawType": "object",
         "type": "unknown"
        },
        {
         "name": "Trung bình, bạn mất bao nhiêu phút để hoàn thành một đơn đặt trà sữa qua ứng dụng?",
         "rawType": "object",
         "type": "unknown"
        },
        {
         "name": "Bạn thường đặt trà sữa qua ứng dụng vào khoảng thời gian nào trong ngày?",
         "rawType": "object",
         "type": "unknown"
        },
        {
         "name": "Mức giá trung bình bạn thường chi cho một ly trà sữa qua ứng dụng là bao nhiêu?",
         "rawType": "object",
         "type": "unknown"
        },
        {
         "name": "Bạn có sẵn sàng đặt trà sữa với mức giá cao hơn nếu chất lượng tốt hơn không?( giá cả)",
         "rawType": "object",
         "type": "unknown"
        },
        {
         "name": "Bạn ưu tiên đặt trà sữa từ các thương hiệu nào nhất?",
         "rawType": "object",
         "type": "unknown"
        },
        {
         "name": "Bạn có sẵn sàng đặt trà sữa từ một quán mới chưa từng thử không?",
         "rawType": "object",
         "type": "unknown"
        },
        {
         "name": "Bạn sẵn sàng đợi bao lâu để nhận trà sữa đã đặt?",
         "rawType": "object",
         "type": "unknown"
        },
        {
         "name": "Bạn có thường xuyên hủy đơn vì thời gian giao hàng quá lâu không?",
         "rawType": "object",
         "type": "unknown"
        },
        {
         "name": "Ảnh hưởng của khuyến mãi & ưu đãi [Tôi thường chỉ đặt trà sữa khi có mã giảm giá hoặc ưu đãi từ ứng dụng.]",
         "rawType": "object",
         "type": "unknown"
        },
        {
         "name": "Ảnh hưởng của khuyến mãi & ưu đãi [Tôi ưu tiên đặt trà sữa từ cửa hàng có nhiều chương trình khuyến mãi hơn.]",
         "rawType": "object",
         "type": "unknown"
        },
        {
         "name": "Ảnh hưởng của khuyến mãi & ưu đãi [Nếu có freeship, tôi sẵn sàng đặt hàng ngay cả khi không thực sự có nhu cầu]",
         "rawType": "object",
         "type": "unknown"
        },
        {
         "name": "Ảnh hưởng của khuyến mãi & ưu đãi [Tôi thường chờ đến các dịp khuyến mãi lớn (sinh nhật app, ngày 8.8, 9.9, 10.10,...) để đặt trà sữa]",
         "rawType": "object",
         "type": "unknown"
        },
        {
         "name": "Ảnh hưởng của khuyến mãi & ưu đãi [Nếu giá trà sữa sau khi áp dụng mã giảm giá hấp dẫn, tôi có xu hướng đặt số lượng nhiều hơn.]",
         "rawType": "object",
         "type": "unknown"
        },
        {
         "name": "Ảnh hưởng của đánh giá & review [Tôi thường xem đánh giá sao trên ứng dụng trước khi quyết định đặt trà sữa.]",
         "rawType": "object",
         "type": "unknown"
        },
        {
         "name": "Ảnh hưởng của đánh giá & review [Tôi thích đặt hàng từ quán có nhiều đánh giá tích cực hơn.]",
         "rawType": "object",
         "type": "unknown"
        },
        {
         "name": "Ảnh hưởng của đánh giá & review [Nếu thấy một quán có đánh giá dưới 3 sao, tôi sẽ không đặt hàng.]",
         "rawType": "object",
         "type": "unknown"
        },
        {
         "name": "Ảnh hưởng của đánh giá & review [Tôi có xu hướng đọc các bình luận của người mua trước để xem phản hồi về chất lượng trà sữa.]",
         "rawType": "object",
         "type": "unknown"
        },
        {
         "name": "Ảnh hưởng của đánh giá & review [Tôi thường để lại đánh giá sau khi nhận trà sữa]",
         "rawType": "object",
         "type": "unknown"
        },
        {
         "name": "Bạn cảm thấy hài lòng như thế nào với trải nghiệm đặt trà sữa qua ứng dụng giao hàng?",
         "rawType": "object",
         "type": "unknown"
        },
        {
         "name": "Bạn có tiếp tục sử dụng ứng dụng để đặt trà sữa trong tương lai không?",
         "rawType": "object",
         "type": "unknown"
        },
        {
         "name": "Mức độ hài lòng về chất lượng sản phẩm Vui lòng đánh giá mức độ hài lòng của bạn về các khía cạnh sau (1: Rất không hài lòng – 5: Rất hài lòng): [Hương vị của trà sữa sau khi nhận hàng.]",
         "rawType": "object",
         "type": "unknown"
        },
        {
         "name": "Mức độ hài lòng về chất lượng sản phẩm Vui lòng đánh giá mức độ hài lòng của bạn về các khía cạnh sau (1: Rất không hài lòng – 5: Rất hài lòng): [Độ tươi mới của trà sữa khi nhận hàng.]",
         "rawType": "object",
         "type": "unknown"
        },
        {
         "name": "Mức độ hài lòng về chất lượng sản phẩm Vui lòng đánh giá mức độ hài lòng của bạn về các khía cạnh sau (1: Rất không hài lòng – 5: Rất hài lòng): [Nhiệt độ của trà sữa có phù hợp (đối với trà sữa nóng/lạnh)?]",
         "rawType": "object",
         "type": "unknown"
        },
        {
         "name": "Mức độ hài lòng về chất lượng sản phẩm Vui lòng đánh giá mức độ hài lòng của bạn về các khía cạnh sau (1: Rất không hài lòng – 5: Rất hài lòng): [Lượng topping có đúng với yêu cầu đặt hàng không?]",
         "rawType": "object",
         "type": "unknown"
        },
        {
         "name": "Mức độ hài lòng về chất lượng sản phẩm Vui lòng đánh giá mức độ hài lòng của bạn về các khía cạnh sau (1: Rất không hài lòng – 5: Rất hài lòng): [Đóng gói của quán có đảm bảo không bị đổ hay hỏng khi vận chuyển?]",
         "rawType": "object",
         "type": "unknown"
        },
        {
         "name": "Mức độ hài lòng về dịch vụ giao hàng Vui lòng đánh giá mức độ hài lòng của bạn với dịch vụ giao hàng (1: Rất không hài lòng – 5: Rất hài lòng): [Thời gian giao hàng có đúng với dự kiến không?]",
         "rawType": "object",
         "type": "unknown"
        },
        {
         "name": "Mức độ hài lòng về dịch vụ giao hàng Vui lòng đánh giá mức độ hài lòng của bạn với dịch vụ giao hàng (1: Rất không hài lòng – 5: Rất hài lòng): [Thái độ của shipper khi giao hàng]",
         "rawType": "object",
         "type": "unknown"
        },
        {
         "name": "Mức độ hài lòng về dịch vụ giao hàng Vui lòng đánh giá mức độ hài lòng của bạn với dịch vụ giao hàng (1: Rất không hài lòng – 5: Rất hài lòng): [Tình trạng trà sữa sau khi giao hàng có còn nguyên vẹn không?]",
         "rawType": "object",
         "type": "unknown"
        },
        {
         "name": "Mức độ hài lòng về dịch vụ giao hàng Vui lòng đánh giá mức độ hài lòng của bạn với dịch vụ giao hàng (1: Rất không hài lòng – 5: Rất hài lòng): [Ứng dụng có cập nhật trạng thái đơn hàng kịp thời không?]",
         "rawType": "object",
         "type": "unknown"
        },
        {
         "name": "Mức độ hài lòng về dịch vụ giao hàng Vui lòng đánh giá mức độ hài lòng của bạn với dịch vụ giao hàng (1: Rất không hài lòng – 5: Rất hài lòng): [Bạn có cảm thấy an toàn khi nhận hàng từ shipper?]",
         "rawType": "object",
         "type": "unknown"
        },
        {
         "name": "Bạn cảm thấy mức giá khi đặt trà sữa qua ứng dụng như thế nào? ( giá cả)",
         "rawType": "object",
         "type": "unknown"
        },
        {
         "name": "Bạn có hài lòng với số lượng mã giảm giá & khuyến mãi từ ứng dụng không?",
         "rawType": "object",
         "type": "unknown"
        },
        {
         "name": "Trên thang điểm từ 0 – 10, bạn có sẵn sàng giới thiệu ứng dụng đặt trà sữa mà bạn đang sử dụng cho bạn bè không? (0: Không bao giờ – 10: Chắc chắn giới thiệu)",
         "rawType": "float64",
         "type": "float"
        },
        {
         "name": "Giới tính của bạn ?",
         "rawType": "object",
         "type": "string"
        },
        {
         "name": "Độ tuổi của bạn",
         "rawType": "object",
         "type": "string"
        },
        {
         "name": "Thu nhập trung bình hàng tháng",
         "rawType": "object",
         "type": "string"
        }
       ],
       "conversionMethod": "pd.DataFrame",
       "ref": "74f67974-0665-4a44-b2e9-125788e980fd",
       "rows": [
        [
         "0",
         "3/22/2025 3:34:48",
         "0",
         "Có",
         "Không",
         null,
         "Tôi không có nhu cầu uống trà sữa, Tôi thấy phí giao hàng quá cao, Tôi lo ngại về chất lượng khi giao hàng, Ứng dụng không có quán trà sữa tôi thích",
         "Mua trực tiếp tại quán",
         "Nếu có chương trình giảm giá hấp dẫn, Nếu có freeship hoặc phí giao hàng rẻ hơn, Nếu có nhiều thương hiệu trà sữa yêu thích hơn, Nếu  thời gian giao hàng nhanh hơn",
         "Có, tôi sẽ thử nếu ưu đãi tốt",
         "shoppee food",
         "25000 - 40000 đồng",
         "30 - 40 phút",
         "The Alley, Gong Cha, Phúc Long, Toco Toco, Koi Thé",
         null,
         null,
         null,
         null,
         null,
         null,
         null,
         null,
         null,
         null,
         null,
         null,
         null,
         null,
         null,
         null,
         null,
         null,
         null,
         null,
         null,
         null,
         null,
         null,
         null,
         null,
         null,
         null,
         null,
         null,
         null,
         null,
         null,
         null,
         null,
         "Nam",
         "18 - 20",
         "5 - 10 triệu"
        ],
        [
         "1",
         "3/22/2025 6:13:44",
         "0",
         "Có",
         "Có",
         "Có",
         null,
         null,
         null,
         null,
         null,
         null,
         null,
         null,
         "Grab, Be food",
         "1 - 3 lần",
         "dưới 5 phút",
         "Chiều ( 14h - 18h )",
         "25000 - 40000 đồng",
         "Trung lập",
         "Phúc Long",
         "Đôi khi thử nếu giá rẻ",
         "Dưới 20p",
         "chưa từng",
         "Rất hài lòng",
         "Rất hài lòng",
         "Bình thường",
         "Hài lòng",
         "Rất hài lòng",
         "Bình thường",
         "Bình thường",
         "Bình thường",
         "Bình thường",
         "Bình thường",
         "hài lòng",
         "Chắc chắn có",
         "Hài lòng",
         "Bình thường",
         "Bình thường",
         "Bình thường",
         "Hài lòng",
         "Hài lòng",
         "Bình thường",
         "Hài lòng",
         "Bình thường",
         "Bình thường",
         "hợp lí",
         "Hài lòng",
         "6.0",
         "Nữ",
         "18 - 20",
         "Tôi chưa có thu nhập"
        ],
        [
         "2",
         "3/22/2025 6:53:37",
         "0",
         "Có",
         "Có",
         "Có",
         null,
         null,
         null,
         null,
         null,
         null,
         null,
         null,
         "shoppee food, Grab",
         "3 - 5 lần",
         "10 - 20 phút",
         "Tối ( 18h - 22h)",
         "25000 - 40000 đồng",
         "Trung lập",
         "Toco Toco",
         "Đôi khi thử nếu giá rẻ",
         "20 - 30 phút",
         "chưa từng",
         "Hài lòng",
         "Rất hài lòng",
         "Hài lòng",
         "Hài lòng",
         "Rất hài lòng",
         "Hài lòng",
         "Rất hài lòng",
         "Hài lòng",
         "Hài lòng",
         "Rất hài lòng",
         "hài lòng",
         "Có thể",
         "Rất hài lòng",
         "Rất hài lòng",
         "Hài lòng",
         "Rất hài lòng",
         "Rất hài lòng",
         "Rất hài lòng",
         "Hài lòng",
         "Rất hài lòng",
         "Hài lòng",
         "Hài lòng",
         "Hơi đắt",
         "Hài lòng",
         "7.0",
         "Nam",
         "18 - 20",
         "5 - 10 triệu"
        ],
        [
         "3",
         "3/22/2025 7:02:42",
         "0",
         "Có",
         "Có",
         "Có",
         null,
         null,
         null,
         null,
         null,
         null,
         null,
         null,
         "Be food, Ứng dụng giao hàng của cửa hàng",
         "3 - 5 lần",
         "10 - 20 phút",
         "Chiều ( 14h - 18h )",
         "41000 - 55000 đồng",
         "Có sẵn sàng",
         "Koi Thé",
         "Chỉ khi có review tốt",
         "30 - 40 phút",
         "chưa từng",
         "Hài lòng",
         "Hài lòng",
         "Bình thường",
         "Hài lòng",
         "Bình thường",
         "Rất hài lòng",
         "Bình thường",
         "Bình thường",
         "Bình thường",
         "Bình thường",
         "bình thường",
         "Chắc chắn có",
         "Bình thường",
         "Bình thường",
         "Hài lòng",
         "Bình thường",
         "Rất hài lòng",
         "Hài lòng",
         "Rất hài lòng",
         "Rất hài lòng",
         "Rất hài lòng",
         "Rất hài lòng",
         "hợp lí",
         "Rất hài lòng",
         "5.0",
         "Nữ",
         "18 - 20",
         "2 - 5 triệu"
        ],
        [
         "4",
         "3/22/2025 7:07:14",
         "0",
         "Có",
         "Không",
         "Matcha latte kèm ánh mắt của em",
         "Tôi thích mua trực tiếp tại cửa hàng hơn, Tôi không có nhu cầu uống trà sữa",
         "Mua trực tiếp tại quán",
         "Nếu có chương trình giảm giá hấp dẫn",
         "Có thể, nhưng tôi vẫn thích mua trực tiếp hơn",
         "shoppee food, Grab food, Be Food",
         "Dưới 25000 đồng",
         "20 - 30 phút",
         "Trà sữa gần xóm =))",
         null,
         null,
         null,
         null,
         null,
         null,
         null,
         null,
         null,
         null,
         null,
         null,
         null,
         null,
         null,
         null,
         null,
         null,
         null,
         null,
         null,
         null,
         null,
         null,
         null,
         null,
         null,
         null,
         null,
         null,
         null,
         null,
         null,
         null,
         null,
         "Nam",
         "18 - 20",
         "Tôi chưa có thu nhập"
        ]
       ],
       "shape": {
        "columns": 51,
        "rows": 5
       }
      },
      "text/html": [
       "<div>\n",
       "<style scoped>\n",
       "    .dataframe tbody tr th:only-of-type {\n",
       "        vertical-align: middle;\n",
       "    }\n",
       "\n",
       "    .dataframe tbody tr th {\n",
       "        vertical-align: top;\n",
       "    }\n",
       "\n",
       "    .dataframe thead th {\n",
       "        text-align: right;\n",
       "    }\n",
       "</style>\n",
       "<table border=\"1\" class=\"dataframe\">\n",
       "  <thead>\n",
       "    <tr style=\"text-align: right;\">\n",
       "      <th></th>\n",
       "      <th>Dấu thời gian</th>\n",
       "      <th>Điểm số</th>\n",
       "      <th>Bạn có phải sinh viên UEH không ?</th>\n",
       "      <th>Trong 1 tháng qua, bạn có đặt trà sữa thông qua ứng dụng giao hàng không ?</th>\n",
       "      <th>Bạn có thích uống trà sữa không?</th>\n",
       "      <th>Lý do bạn chưa từng đặt trà sữa qua ứng dụng giao hàng là gì?</th>\n",
       "      <th>Bạn thường mua trà sữa bằng cách nào?</th>\n",
       "      <th>Điều gì có thể khiến bạn cân nhắc đặt trà sữa qua ứng dụng giao hàng? (Chọn nhiều đáp án nếu có)</th>\n",
       "      <th>Bạn có dự định sử dụng ứng dụng giao hàng để đặt trà sữa trong tương lai không?</th>\n",
       "      <th>Bạn đã nghe qua thương hiệu nào dưới đây chưa?</th>\n",
       "      <th>...</th>\n",
       "      <th>Mức độ hài lòng về dịch vụ giao hàng Vui lòng đánh giá mức độ hài lòng của bạn với dịch vụ giao hàng (1: Rất không hài lòng – 5: Rất hài lòng): [Thái độ của shipper khi giao hàng]</th>\n",
       "      <th>Mức độ hài lòng về dịch vụ giao hàng Vui lòng đánh giá mức độ hài lòng của bạn với dịch vụ giao hàng (1: Rất không hài lòng – 5: Rất hài lòng): [Tình trạng trà sữa sau khi giao hàng có còn nguyên vẹn không?]</th>\n",
       "      <th>Mức độ hài lòng về dịch vụ giao hàng Vui lòng đánh giá mức độ hài lòng của bạn với dịch vụ giao hàng (1: Rất không hài lòng – 5: Rất hài lòng): [Ứng dụng có cập nhật trạng thái đơn hàng kịp thời không?]</th>\n",
       "      <th>Mức độ hài lòng về dịch vụ giao hàng Vui lòng đánh giá mức độ hài lòng của bạn với dịch vụ giao hàng (1: Rất không hài lòng – 5: Rất hài lòng): [Bạn có cảm thấy an toàn khi nhận hàng từ shipper?]</th>\n",
       "      <th>Bạn cảm thấy mức giá khi đặt trà sữa qua ứng dụng như thế nào? ( giá cả)</th>\n",
       "      <th>Bạn có hài lòng với số lượng mã giảm giá &amp; khuyến mãi từ ứng dụng không?</th>\n",
       "      <th>Trên thang điểm từ 0 – 10, bạn có sẵn sàng giới thiệu ứng dụng đặt trà sữa mà bạn đang sử dụng cho bạn bè không? (0: Không bao giờ – 10: Chắc chắn giới thiệu)</th>\n",
       "      <th>Giới tính của bạn ?</th>\n",
       "      <th>Độ tuổi của bạn</th>\n",
       "      <th>Thu nhập trung bình hàng tháng</th>\n",
       "    </tr>\n",
       "  </thead>\n",
       "  <tbody>\n",
       "    <tr>\n",
       "      <th>0</th>\n",
       "      <td>3/22/2025 3:34:48</td>\n",
       "      <td>0</td>\n",
       "      <td>Có</td>\n",
       "      <td>Không</td>\n",
       "      <td>NaN</td>\n",
       "      <td>Tôi không có nhu cầu uống trà sữa, Tôi thấy ph...</td>\n",
       "      <td>Mua trực tiếp tại quán</td>\n",
       "      <td>Nếu có chương trình giảm giá hấp dẫn, Nếu có f...</td>\n",
       "      <td>Có, tôi sẽ thử nếu ưu đãi tốt</td>\n",
       "      <td>shoppee food</td>\n",
       "      <td>...</td>\n",
       "      <td>NaN</td>\n",
       "      <td>NaN</td>\n",
       "      <td>NaN</td>\n",
       "      <td>NaN</td>\n",
       "      <td>NaN</td>\n",
       "      <td>NaN</td>\n",
       "      <td>NaN</td>\n",
       "      <td>Nam</td>\n",
       "      <td>18 - 20</td>\n",
       "      <td>5 - 10 triệu</td>\n",
       "    </tr>\n",
       "    <tr>\n",
       "      <th>1</th>\n",
       "      <td>3/22/2025 6:13:44</td>\n",
       "      <td>0</td>\n",
       "      <td>Có</td>\n",
       "      <td>Có</td>\n",
       "      <td>Có</td>\n",
       "      <td>NaN</td>\n",
       "      <td>NaN</td>\n",
       "      <td>NaN</td>\n",
       "      <td>NaN</td>\n",
       "      <td>NaN</td>\n",
       "      <td>...</td>\n",
       "      <td>Bình thường</td>\n",
       "      <td>Hài lòng</td>\n",
       "      <td>Bình thường</td>\n",
       "      <td>Bình thường</td>\n",
       "      <td>hợp lí</td>\n",
       "      <td>Hài lòng</td>\n",
       "      <td>6.0</td>\n",
       "      <td>Nữ</td>\n",
       "      <td>18 - 20</td>\n",
       "      <td>Tôi chưa có thu nhập</td>\n",
       "    </tr>\n",
       "    <tr>\n",
       "      <th>2</th>\n",
       "      <td>3/22/2025 6:53:37</td>\n",
       "      <td>0</td>\n",
       "      <td>Có</td>\n",
       "      <td>Có</td>\n",
       "      <td>Có</td>\n",
       "      <td>NaN</td>\n",
       "      <td>NaN</td>\n",
       "      <td>NaN</td>\n",
       "      <td>NaN</td>\n",
       "      <td>NaN</td>\n",
       "      <td>...</td>\n",
       "      <td>Hài lòng</td>\n",
       "      <td>Rất hài lòng</td>\n",
       "      <td>Hài lòng</td>\n",
       "      <td>Hài lòng</td>\n",
       "      <td>Hơi đắt</td>\n",
       "      <td>Hài lòng</td>\n",
       "      <td>7.0</td>\n",
       "      <td>Nam</td>\n",
       "      <td>18 - 20</td>\n",
       "      <td>5 - 10 triệu</td>\n",
       "    </tr>\n",
       "    <tr>\n",
       "      <th>3</th>\n",
       "      <td>3/22/2025 7:02:42</td>\n",
       "      <td>0</td>\n",
       "      <td>Có</td>\n",
       "      <td>Có</td>\n",
       "      <td>Có</td>\n",
       "      <td>NaN</td>\n",
       "      <td>NaN</td>\n",
       "      <td>NaN</td>\n",
       "      <td>NaN</td>\n",
       "      <td>NaN</td>\n",
       "      <td>...</td>\n",
       "      <td>Rất hài lòng</td>\n",
       "      <td>Rất hài lòng</td>\n",
       "      <td>Rất hài lòng</td>\n",
       "      <td>Rất hài lòng</td>\n",
       "      <td>hợp lí</td>\n",
       "      <td>Rất hài lòng</td>\n",
       "      <td>5.0</td>\n",
       "      <td>Nữ</td>\n",
       "      <td>18 - 20</td>\n",
       "      <td>2 - 5 triệu</td>\n",
       "    </tr>\n",
       "    <tr>\n",
       "      <th>4</th>\n",
       "      <td>3/22/2025 7:07:14</td>\n",
       "      <td>0</td>\n",
       "      <td>Có</td>\n",
       "      <td>Không</td>\n",
       "      <td>Matcha latte kèm ánh mắt của em</td>\n",
       "      <td>Tôi thích mua trực tiếp tại cửa hàng hơn, Tôi ...</td>\n",
       "      <td>Mua trực tiếp tại quán</td>\n",
       "      <td>Nếu có chương trình giảm giá hấp dẫn</td>\n",
       "      <td>Có thể, nhưng tôi vẫn thích mua trực tiếp hơn</td>\n",
       "      <td>shoppee food, Grab food, Be Food</td>\n",
       "      <td>...</td>\n",
       "      <td>NaN</td>\n",
       "      <td>NaN</td>\n",
       "      <td>NaN</td>\n",
       "      <td>NaN</td>\n",
       "      <td>NaN</td>\n",
       "      <td>NaN</td>\n",
       "      <td>NaN</td>\n",
       "      <td>Nam</td>\n",
       "      <td>18 - 20</td>\n",
       "      <td>Tôi chưa có thu nhập</td>\n",
       "    </tr>\n",
       "  </tbody>\n",
       "</table>\n",
       "<p>5 rows × 51 columns</p>\n",
       "</div>"
      ],
      "text/plain": [
       "       Dấu thời gian  Điểm số Bạn có phải sinh viên UEH không ?  \\\n",
       "0  3/22/2025 3:34:48        0                                Có   \n",
       "1  3/22/2025 6:13:44        0                                Có   \n",
       "2  3/22/2025 6:53:37        0                                Có   \n",
       "3  3/22/2025 7:02:42        0                                Có   \n",
       "4  3/22/2025 7:07:14        0                                Có   \n",
       "\n",
       "  Trong 1 tháng qua, bạn có đặt trà sữa thông qua ứng dụng giao hàng không ?  \\\n",
       "0                                              Không                           \n",
       "1                                                 Có                           \n",
       "2                                                 Có                           \n",
       "3                                                 Có                           \n",
       "4                                              Không                           \n",
       "\n",
       "  Bạn có thích uống trà sữa không?  \\\n",
       "0                              NaN   \n",
       "1                               Có   \n",
       "2                               Có   \n",
       "3                               Có   \n",
       "4  Matcha latte kèm ánh mắt của em   \n",
       "\n",
       "  Lý do bạn chưa từng đặt trà sữa qua ứng dụng giao hàng là gì?  \\\n",
       "0  Tôi không có nhu cầu uống trà sữa, Tôi thấy ph...              \n",
       "1                                                NaN              \n",
       "2                                                NaN              \n",
       "3                                                NaN              \n",
       "4  Tôi thích mua trực tiếp tại cửa hàng hơn, Tôi ...              \n",
       "\n",
       "  Bạn thường mua trà sữa bằng cách nào?    \\\n",
       "0                  Mua trực tiếp tại quán   \n",
       "1                                     NaN   \n",
       "2                                     NaN   \n",
       "3                                     NaN   \n",
       "4                  Mua trực tiếp tại quán   \n",
       "\n",
       "  Điều gì có thể khiến bạn cân nhắc đặt trà sữa qua ứng dụng giao hàng? (Chọn nhiều đáp án nếu có)  \\\n",
       "0  Nếu có chương trình giảm giá hấp dẫn, Nếu có f...                                                 \n",
       "1                                                NaN                                                 \n",
       "2                                                NaN                                                 \n",
       "3                                                NaN                                                 \n",
       "4               Nếu có chương trình giảm giá hấp dẫn                                                 \n",
       "\n",
       "    Bạn có dự định sử dụng ứng dụng giao hàng để đặt trà sữa trong tương lai không?    \\\n",
       "0                      Có, tôi sẽ thử nếu ưu đãi tốt                                    \n",
       "1                                                NaN                                    \n",
       "2                                                NaN                                    \n",
       "3                                                NaN                                    \n",
       "4      Có thể, nhưng tôi vẫn thích mua trực tiếp hơn                                    \n",
       "\n",
       "  Bạn đã nghe qua thương hiệu nào dưới đây chưa?  ...  \\\n",
       "0                                   shoppee food  ...   \n",
       "1                                            NaN  ...   \n",
       "2                                            NaN  ...   \n",
       "3                                            NaN  ...   \n",
       "4               shoppee food, Grab food, Be Food  ...   \n",
       "\n",
       "  Mức độ hài lòng về dịch vụ giao hàng Vui lòng đánh giá mức độ hài lòng của bạn với dịch vụ giao hàng (1: Rất không hài lòng – 5: Rất hài lòng): [Thái độ của shipper khi giao hàng]  \\\n",
       "0                                                NaN                                                                                                                                    \n",
       "1                                        Bình thường                                                                                                                                    \n",
       "2                                           Hài lòng                                                                                                                                    \n",
       "3                                       Rất hài lòng                                                                                                                                    \n",
       "4                                                NaN                                                                                                                                    \n",
       "\n",
       "  Mức độ hài lòng về dịch vụ giao hàng Vui lòng đánh giá mức độ hài lòng của bạn với dịch vụ giao hàng (1: Rất không hài lòng – 5: Rất hài lòng): [Tình trạng trà sữa sau khi giao hàng có còn nguyên vẹn không?]  \\\n",
       "0                                                NaN                                                                                                                                                                \n",
       "1                                           Hài lòng                                                                                                                                                                \n",
       "2                                       Rất hài lòng                                                                                                                                                                \n",
       "3                                       Rất hài lòng                                                                                                                                                                \n",
       "4                                                NaN                                                                                                                                                                \n",
       "\n",
       "  Mức độ hài lòng về dịch vụ giao hàng Vui lòng đánh giá mức độ hài lòng của bạn với dịch vụ giao hàng (1: Rất không hài lòng – 5: Rất hài lòng): [Ứng dụng có cập nhật trạng thái đơn hàng kịp thời không?]  \\\n",
       "0                                                NaN                                                                                                                                                           \n",
       "1                                        Bình thường                                                                                                                                                           \n",
       "2                                           Hài lòng                                                                                                                                                           \n",
       "3                                       Rất hài lòng                                                                                                                                                           \n",
       "4                                                NaN                                                                                                                                                           \n",
       "\n",
       "  Mức độ hài lòng về dịch vụ giao hàng Vui lòng đánh giá mức độ hài lòng của bạn với dịch vụ giao hàng (1: Rất không hài lòng – 5: Rất hài lòng): [Bạn có cảm thấy an toàn khi nhận hàng từ shipper?]  \\\n",
       "0                                                NaN                                                                                                                                                    \n",
       "1                                        Bình thường                                                                                                                                                    \n",
       "2                                           Hài lòng                                                                                                                                                    \n",
       "3                                       Rất hài lòng                                                                                                                                                    \n",
       "4                                                NaN                                                                                                                                                    \n",
       "\n",
       "  Bạn cảm thấy mức giá khi đặt trà sữa qua ứng dụng như thế nào? ( giá cả)  \\\n",
       "0                                                NaN                         \n",
       "1                                             hợp lí                         \n",
       "2                                            Hơi đắt                         \n",
       "3                                             hợp lí                         \n",
       "4                                                NaN                         \n",
       "\n",
       "  Bạn có hài lòng với số lượng mã giảm giá & khuyến mãi từ ứng dụng không?  \\\n",
       "0                                                NaN                         \n",
       "1                                           Hài lòng                         \n",
       "2                                           Hài lòng                         \n",
       "3                                       Rất hài lòng                         \n",
       "4                                                NaN                         \n",
       "\n",
       "  Trên thang điểm từ 0 – 10, bạn có sẵn sàng giới thiệu ứng dụng đặt trà sữa mà bạn đang sử dụng cho bạn bè không? (0: Không bao giờ – 10: Chắc chắn giới thiệu)  \\\n",
       "0                                                NaN                                                                                                               \n",
       "1                                                6.0                                                                                                               \n",
       "2                                                7.0                                                                                                               \n",
       "3                                                5.0                                                                                                               \n",
       "4                                                NaN                                                                                                               \n",
       "\n",
       "  Giới tính của bạn ? Độ tuổi của bạn Thu nhập trung bình hàng tháng  \n",
       "0                 Nam         18 - 20                   5 - 10 triệu  \n",
       "1                  Nữ         18 - 20           Tôi chưa có thu nhập  \n",
       "2                 Nam         18 - 20                   5 - 10 triệu  \n",
       "3                  Nữ         18 - 20                    2 - 5 triệu  \n",
       "4                 Nam         18 - 20           Tôi chưa có thu nhập  \n",
       "\n",
       "[5 rows x 51 columns]"
      ]
     },
     "execution_count": 500,
     "metadata": {},
     "output_type": "execute_result"
    }
   ],
   "source": [
    "data = pd.read_csv(\"./DEMO-Biểu-Đồ.csv\")\n",
    "data.head()"
   ]
  },
  {
   "cell_type": "code",
   "execution_count": 501,
   "metadata": {},
   "outputs": [],
   "source": [
    "import matplotlib.pyplot as plt"
   ]
  },
  {
   "cell_type": "code",
   "execution_count": 502,
   "metadata": {},
   "outputs": [
    {
     "name": "stdout",
     "output_type": "stream",
     "text": [
      "<class 'pandas.core.frame.DataFrame'>\n",
      "RangeIndex: 204 entries, 0 to 203\n",
      "Data columns (total 51 columns):\n",
      " #   Column                                                                                                                                                                                                                Non-Null Count  Dtype  \n",
      "---  ------                                                                                                                                                                                                                --------------  -----  \n",
      " 0   Dấu thời gian                                                                                                                                                                                                         204 non-null    object \n",
      " 1   Điểm số                                                                                                                                                                                                               204 non-null    int64  \n",
      " 2   Bạn có phải sinh viên UEH không ?                                                                                                                                                                                     204 non-null    object \n",
      " 3   Trong 1 tháng qua, bạn có đặt trà sữa thông qua ứng dụng giao hàng không ?                                                                                                                                            204 non-null    object \n",
      " 4   Bạn có thích uống trà sữa không?                                                                                                                                                                                      202 non-null    object \n",
      " 5   Lý do bạn chưa từng đặt trà sữa qua ứng dụng giao hàng là gì?                                                                                                                                                         49 non-null     object \n",
      " 6   Bạn thường mua trà sữa bằng cách nào?                                                                                                                                                                                 49 non-null     object \n",
      " 7   Điều gì có thể khiến bạn cân nhắc đặt trà sữa qua ứng dụng giao hàng? (Chọn nhiều đáp án nếu có)                                                                                                                      49 non-null     object \n",
      " 8     Bạn có dự định sử dụng ứng dụng giao hàng để đặt trà sữa trong tương lai không?                                                                                                                                     49 non-null     object \n",
      " 9   Bạn đã nghe qua thương hiệu nào dưới đây chưa?                                                                                                                                                                        49 non-null     object \n",
      " 10  mức tiền bạn sẵn sàn chi trả nếu bạn đặt trà sữa thông qua ứng dụng                                                                                                                                                   49 non-null     object \n",
      " 11  Thời gian bạn sẵn sàng chờ đợi nếu có đặt trà sữa thông qua ứng dụng                                                                                                                                                  49 non-null     object \n",
      " 12  Bạn đã từng mua hàng trực tiếp từ những thương hiệu nào                                                                                                                                                               49 non-null     object \n",
      " 13  Bạn có đã từng đặt trà sữa qua ứng dụng giao hàng nào?                                                                                                                                                                155 non-null    object \n",
      " 14  Trong tuần trước bạn đã đặt trà sữa qua ứng dụng bao nhiêu lần?                                                                                                                                                       155 non-null    object \n",
      " 15  Trung bình, bạn mất bao nhiêu phút để hoàn thành một đơn đặt trà sữa qua ứng dụng?                                                                                                                                    155 non-null    object \n",
      " 16  Bạn thường đặt trà sữa qua ứng dụng vào khoảng thời gian nào trong ngày?                                                                                                                                              155 non-null    object \n",
      " 17  Mức giá trung bình bạn thường chi cho một ly trà sữa qua ứng dụng là bao nhiêu?                                                                                                                                       155 non-null    object \n",
      " 18  Bạn có sẵn sàng đặt trà sữa với mức giá cao hơn nếu chất lượng tốt hơn không?( giá cả)                                                                                                                                155 non-null    object \n",
      " 19  Bạn ưu tiên đặt trà sữa từ các thương hiệu nào nhất?                                                                                                                                                                  155 non-null    object \n",
      " 20  Bạn có sẵn sàng đặt trà sữa từ một quán mới chưa từng thử không?                                                                                                                                                      155 non-null    object \n",
      " 21  Bạn sẵn sàng đợi bao lâu để nhận trà sữa đã đặt?                                                                                                                                                                      155 non-null    object \n",
      " 22  Bạn có thường xuyên hủy đơn vì thời gian giao hàng quá lâu không?                                                                                                                                                     155 non-null    object \n",
      " 23  Ảnh hưởng của khuyến mãi & ưu đãi [Tôi thường chỉ đặt trà sữa khi có mã giảm giá hoặc ưu đãi từ ứng dụng.]                                                                                                            155 non-null    object \n",
      " 24  Ảnh hưởng của khuyến mãi & ưu đãi [Tôi ưu tiên đặt trà sữa từ cửa hàng có nhiều chương trình khuyến mãi hơn.]                                                                                                         155 non-null    object \n",
      " 25  Ảnh hưởng của khuyến mãi & ưu đãi [Nếu có freeship, tôi sẵn sàng đặt hàng ngay cả khi không thực sự có nhu cầu]                                                                                                       155 non-null    object \n",
      " 26  Ảnh hưởng của khuyến mãi & ưu đãi [Tôi thường chờ đến các dịp khuyến mãi lớn (sinh nhật app, ngày 8.8, 9.9, 10.10,...) để đặt trà sữa]                                                                                155 non-null    object \n",
      " 27  Ảnh hưởng của khuyến mãi & ưu đãi [Nếu giá trà sữa sau khi áp dụng mã giảm giá hấp dẫn, tôi có xu hướng đặt số lượng nhiều hơn.]                                                                                      155 non-null    object \n",
      " 28  Ảnh hưởng của đánh giá & review [Tôi thường xem đánh giá sao trên ứng dụng trước khi quyết định đặt trà sữa.]                                                                                                         155 non-null    object \n",
      " 29  Ảnh hưởng của đánh giá & review [Tôi thích đặt hàng từ quán có nhiều đánh giá tích cực hơn.]                                                                                                                          155 non-null    object \n",
      " 30  Ảnh hưởng của đánh giá & review [Nếu thấy một quán có đánh giá dưới 3 sao, tôi sẽ không đặt hàng.]                                                                                                                    155 non-null    object \n",
      " 31  Ảnh hưởng của đánh giá & review [Tôi có xu hướng đọc các bình luận của người mua trước để xem phản hồi về chất lượng trà sữa.]                                                                                        155 non-null    object \n",
      " 32  Ảnh hưởng của đánh giá & review [Tôi thường để lại đánh giá sau khi nhận trà sữa]                                                                                                                                     155 non-null    object \n",
      " 33  Bạn cảm thấy hài lòng như thế nào với trải nghiệm đặt trà sữa qua ứng dụng giao hàng?                                                                                                                                 155 non-null    object \n",
      " 34  Bạn có tiếp tục sử dụng ứng dụng để đặt trà sữa trong tương lai không?                                                                                                                                                155 non-null    object \n",
      " 35  Mức độ hài lòng về chất lượng sản phẩm Vui lòng đánh giá mức độ hài lòng của bạn về các khía cạnh sau (1: Rất không hài lòng – 5: Rất hài lòng): [Hương vị của trà sữa sau khi nhận hàng.]                            155 non-null    object \n",
      " 36  Mức độ hài lòng về chất lượng sản phẩm Vui lòng đánh giá mức độ hài lòng của bạn về các khía cạnh sau (1: Rất không hài lòng – 5: Rất hài lòng): [Độ tươi mới của trà sữa khi nhận hàng.]                             155 non-null    object \n",
      " 37  Mức độ hài lòng về chất lượng sản phẩm Vui lòng đánh giá mức độ hài lòng của bạn về các khía cạnh sau (1: Rất không hài lòng – 5: Rất hài lòng): [Nhiệt độ của trà sữa có phù hợp (đối với trà sữa nóng/lạnh)?]       155 non-null    object \n",
      " 38  Mức độ hài lòng về chất lượng sản phẩm Vui lòng đánh giá mức độ hài lòng của bạn về các khía cạnh sau (1: Rất không hài lòng – 5: Rất hài lòng): [Lượng topping có đúng với yêu cầu đặt hàng không?]                  155 non-null    object \n",
      " 39  Mức độ hài lòng về chất lượng sản phẩm Vui lòng đánh giá mức độ hài lòng của bạn về các khía cạnh sau (1: Rất không hài lòng – 5: Rất hài lòng): [Đóng gói của quán có đảm bảo không bị đổ hay hỏng khi vận chuyển?]  155 non-null    object \n",
      " 40  Mức độ hài lòng về dịch vụ giao hàng Vui lòng đánh giá mức độ hài lòng của bạn với dịch vụ giao hàng (1: Rất không hài lòng – 5: Rất hài lòng): [Thời gian giao hàng có đúng với dự kiến không?]                      155 non-null    object \n",
      " 41  Mức độ hài lòng về dịch vụ giao hàng Vui lòng đánh giá mức độ hài lòng của bạn với dịch vụ giao hàng (1: Rất không hài lòng – 5: Rất hài lòng): [Thái độ của shipper khi giao hàng]                                   155 non-null    object \n",
      " 42  Mức độ hài lòng về dịch vụ giao hàng Vui lòng đánh giá mức độ hài lòng của bạn với dịch vụ giao hàng (1: Rất không hài lòng – 5: Rất hài lòng): [Tình trạng trà sữa sau khi giao hàng có còn nguyên vẹn không?]       155 non-null    object \n",
      " 43  Mức độ hài lòng về dịch vụ giao hàng Vui lòng đánh giá mức độ hài lòng của bạn với dịch vụ giao hàng (1: Rất không hài lòng – 5: Rất hài lòng): [Ứng dụng có cập nhật trạng thái đơn hàng kịp thời không?]            155 non-null    object \n",
      " 44  Mức độ hài lòng về dịch vụ giao hàng Vui lòng đánh giá mức độ hài lòng của bạn với dịch vụ giao hàng (1: Rất không hài lòng – 5: Rất hài lòng): [Bạn có cảm thấy an toàn khi nhận hàng từ shipper?]                   155 non-null    object \n",
      " 45  Bạn cảm thấy mức giá khi đặt trà sữa qua ứng dụng như thế nào? ( giá cả)                                                                                                                                              155 non-null    object \n",
      " 46  Bạn có hài lòng với số lượng mã giảm giá & khuyến mãi từ ứng dụng không?                                                                                                                                              155 non-null    object \n",
      " 47  Trên thang điểm từ 0 – 10, bạn có sẵn sàng giới thiệu ứng dụng đặt trà sữa mà bạn đang sử dụng cho bạn bè không? (0: Không bao giờ – 10: Chắc chắn giới thiệu)                                                        155 non-null    float64\n",
      " 48  Giới tính của bạn ?                                                                                                                                                                                                   204 non-null    object \n",
      " 49  Độ tuổi của bạn                                                                                                                                                                                                       203 non-null    object \n",
      " 50  Thu nhập trung bình hàng tháng                                                                                                                                                                                        203 non-null    object \n",
      "dtypes: float64(1), int64(1), object(49)\n",
      "memory usage: 81.4+ KB\n"
     ]
    }
   ],
   "source": [
    "data.info()"
   ]
  },
  {
   "cell_type": "markdown",
   "metadata": {},
   "source": [
    "## 1.Lý do bạn chưa từng đặt trà sữa qua ứng dụng giao hàng là gì?"
   ]
  },
  {
   "cell_type": "code",
   "execution_count": 503,
   "metadata": {},
   "outputs": [
    {
     "data": {
      "text/plain": [
       "0      Tôi không có nhu cầu uống trà sữa, Tôi thấy ph...\n",
       "1                                                    NaN\n",
       "2                                                    NaN\n",
       "3                                                    NaN\n",
       "4      Tôi thích mua trực tiếp tại cửa hàng hơn, Tôi ...\n",
       "                             ...                        \n",
       "199                                                  NaN\n",
       "200                                                  NaN\n",
       "201                                                  NaN\n",
       "202                                                  NaN\n",
       "203                                                  NaN\n",
       "Name: Lý do bạn chưa từng đặt trà sữa qua ứng dụng giao hàng là gì?, Length: 204, dtype: object"
      ]
     },
     "execution_count": 503,
     "metadata": {},
     "output_type": "execute_result"
    }
   ],
   "source": [
    "data[\"Lý do bạn chưa từng đặt trà sữa qua ứng dụng giao hàng là gì?\"]"
   ]
  },
  {
   "cell_type": "code",
   "execution_count": 504,
   "metadata": {},
   "outputs": [
    {
     "data": {
      "text/plain": [
       "14"
      ]
     },
     "execution_count": 504,
     "metadata": {},
     "output_type": "execute_result"
    }
   ],
   "source": [
    "data[\"Lý do bạn chưa từng đặt trà sữa qua ứng dụng giao hàng là gì?\"].nunique()"
   ]
  },
  {
   "cell_type": "code",
   "execution_count": 505,
   "metadata": {},
   "outputs": [
    {
     "data": {
      "text/plain": [
       "array(['Tôi không có nhu cầu uống trà sữa, Tôi thấy phí giao hàng quá cao, Tôi lo ngại về chất lượng khi giao hàng, Ứng dụng không có quán trà sữa tôi thích',\n",
       "       nan,\n",
       "       'Tôi thích mua trực tiếp tại cửa hàng hơn, Tôi không có nhu cầu uống trà sữa',\n",
       "       'Tôi thích mua trực tiếp tại cửa hàng hơn',\n",
       "       'Tôi thấy phí giao hàng quá cao',\n",
       "       'Tôi thích mua trực tiếp tại cửa hàng hơn, Tôi thấy phí giao hàng quá cao, Ứng dụng không có quán trà sữa tôi thích',\n",
       "       'Tôi không có nhu cầu uống trà sữa, Tôi thấy phí giao hàng quá cao',\n",
       "       'Tôi thích mua trực tiếp tại cửa hàng hơn, Tôi thấy phí giao hàng quá cao',\n",
       "       'Tôi không có nhu cầu uống trà sữa',\n",
       "       'Tôi chưa từng cài đặt ứng dụng giao đồ ăn',\n",
       "       'Tôi thích mua trực tiếp tại cửa hàng hơn, Tôi thấy phí giao hàng quá cao, Tôi lo ngại về chất lượng khi giao hàng',\n",
       "       'Tôi thích mua trực tiếp tại cửa hàng hơn, Tôi thấy phí giao hàng quá cao, Tôi chưa từng cài đặt ứng dụng giao đồ ăn',\n",
       "       'Tôi thích mua trực tiếp tại cửa hàng hơn, Tôi lo ngại về chất lượng khi giao hàng, Tôi chưa từng cài đặt ứng dụng giao đồ ăn',\n",
       "       'Tôi thích mua trực tiếp tại cửa hàng hơn, Tôi không có nhu cầu uống trà sữa, Tôi thấy phí giao hàng quá cao, Tôi lo ngại về chất lượng khi giao hàng, Tôi chưa từng cài đặt ứng dụng giao đồ ăn, Tôi sợ thông tin cá nhân bị lộ',\n",
       "       'Tôi lo ngại về chất lượng khi giao hàng'], dtype=object)"
      ]
     },
     "execution_count": 505,
     "metadata": {},
     "output_type": "execute_result"
    }
   ],
   "source": [
    "data[\"Lý do bạn chưa từng đặt trà sữa qua ứng dụng giao hàng là gì?\"].unique()"
   ]
  },
  {
   "cell_type": "code",
   "execution_count": 506,
   "metadata": {},
   "outputs": [],
   "source": [
    "reason = [\n",
    "  'Tôi không có nhu cầu uống trà sữa, Tôi thấy phí giao hàng quá cao, Tôi lo ngại về chất lượng khi giao hàng, Ứng dụng không có quán trà sữa tôi thích',\n",
    "  'Tôi thích mua trực tiếp tại cửa hàng hơn, Tôi không có nhu cầu uống trà sữa',\n",
    "  'Tôi thích mua trực tiếp tại cửa hàng hơn',\n",
    "  'Tôi thấy phí giao hàng quá cao',\n",
    "  'Tôi thích mua trực tiếp tại cửa hàng hơn, Tôi thấy phí giao hàng quá cao, Ứng dụng không có quán trà sữa tôi thích',\n",
    "  'Tôi không có nhu cầu uống trà sữa, Tôi thấy phí giao hàng quá cao',\n",
    "  'Tôi thích mua trực tiếp tại cửa hàng hơn, Tôi thấy phí giao hàng quá cao',\n",
    "  'Tôi không có nhu cầu uống trà sữa',\n",
    "  'Tôi chưa từng cài đặt ứng dụng giao đồ ăn',\n",
    "  'Tôi thích mua trực tiếp tại cửa hàng hơn, Tôi thấy phí giao hàng quá cao, Tôi lo ngại về chất lượng khi giao hàng',\n",
    "  'Tôi thích mua trực tiếp tại cửa hàng hơn, Tôi thấy phí giao hàng quá cao, Tôi chưa từng cài đặt ứng dụng giao đồ ăn',\n",
    "  'Tôi thích mua trực tiếp tại cửa hàng hơn, Tôi lo ngại về chất lượng khi giao hàng, Tôi chưa từng cài đặt ứng dụng giao đồ ăn',\n",
    "  'Tôi thích mua trực tiếp tại cửa hàng hơn, Tôi không có nhu cầu uống trà sữa, Tôi thấy phí giao hàng quá cao, Tôi lo ngại về chất lượng khi giao hàng, Tôi chưa từng cài đặt ứng dụng giao đồ ăn, Tôi sợ thông tin cá nhân bị lộ',\n",
    "  'Tôi lo ngại về chất lượng khi giao hàng'\n",
    "]"
   ]
  },
  {
   "cell_type": "code",
   "execution_count": 507,
   "metadata": {},
   "outputs": [],
   "source": [
    "dictionary_rs = {}"
   ]
  },
  {
   "cell_type": "code",
   "execution_count": 508,
   "metadata": {},
   "outputs": [],
   "source": [
    "for rs in reason:\n",
    "  list_rs = rs.split(', ')\n",
    "  for spec_rs in list_rs:\n",
    "    if spec_rs in dictionary_rs:\n",
    "      dictionary_rs[spec_rs] += 1\n",
    "    else:\n",
    "      dictionary_rs[spec_rs] = 1"
   ]
  },
  {
   "cell_type": "code",
   "execution_count": 509,
   "metadata": {},
   "outputs": [
    {
     "data": {
      "text/plain": [
       "{'Tôi không có nhu cầu uống trà sữa': 5,\n",
       " 'Tôi thấy phí giao hàng quá cao': 8,\n",
       " 'Tôi lo ngại về chất lượng khi giao hàng': 5,\n",
       " 'Ứng dụng không có quán trà sữa tôi thích': 2,\n",
       " 'Tôi thích mua trực tiếp tại cửa hàng hơn': 8,\n",
       " 'Tôi chưa từng cài đặt ứng dụng giao đồ ăn': 4,\n",
       " 'Tôi sợ thông tin cá nhân bị lộ': 1}"
      ]
     },
     "execution_count": 509,
     "metadata": {},
     "output_type": "execute_result"
    }
   ],
   "source": [
    "dictionary_rs"
   ]
  },
  {
   "cell_type": "code",
   "execution_count": 510,
   "metadata": {},
   "outputs": [],
   "source": [
    "dictionary_rs = dict(sorted(dictionary_rs.items(), key=lambda item: item[1]))"
   ]
  },
  {
   "cell_type": "code",
   "execution_count": 511,
   "metadata": {},
   "outputs": [
    {
     "data": {
      "text/plain": [
       "{'Tôi sợ thông tin cá nhân bị lộ': 1,\n",
       " 'Ứng dụng không có quán trà sữa tôi thích': 2,\n",
       " 'Tôi chưa từng cài đặt ứng dụng giao đồ ăn': 4,\n",
       " 'Tôi không có nhu cầu uống trà sữa': 5,\n",
       " 'Tôi lo ngại về chất lượng khi giao hàng': 5,\n",
       " 'Tôi thấy phí giao hàng quá cao': 8,\n",
       " 'Tôi thích mua trực tiếp tại cửa hàng hơn': 8}"
      ]
     },
     "execution_count": 511,
     "metadata": {},
     "output_type": "execute_result"
    }
   ],
   "source": [
    "dictionary_rs"
   ]
  },
  {
   "cell_type": "code",
   "execution_count": 512,
   "metadata": {},
   "outputs": [],
   "source": [
    "dictionary_rs = pd.DataFrame(list(dictionary_rs.items()), columns=['Lý do', 'Số lượng'])"
   ]
  },
  {
   "cell_type": "code",
   "execution_count": 513,
   "metadata": {},
   "outputs": [
    {
     "data": {
      "application/vnd.microsoft.datawrangler.viewer.v0+json": {
       "columns": [
        {
         "name": "index",
         "rawType": "int64",
         "type": "integer"
        },
        {
         "name": "Lý do",
         "rawType": "object",
         "type": "string"
        },
        {
         "name": "Số lượng",
         "rawType": "int64",
         "type": "integer"
        }
       ],
       "conversionMethod": "pd.DataFrame",
       "ref": "ed3a7e77-5e2e-4490-9aff-0d1365aba7ff",
       "rows": [
        [
         "0",
         "Tôi sợ thông tin cá nhân bị lộ",
         "1"
        ],
        [
         "1",
         "Ứng dụng không có quán trà sữa tôi thích",
         "2"
        ],
        [
         "2",
         "Tôi chưa từng cài đặt ứng dụng giao đồ ăn",
         "4"
        ],
        [
         "3",
         "Tôi không có nhu cầu uống trà sữa",
         "5"
        ],
        [
         "4",
         "Tôi lo ngại về chất lượng khi giao hàng",
         "5"
        ],
        [
         "5",
         "Tôi thấy phí giao hàng quá cao",
         "8"
        ],
        [
         "6",
         "Tôi thích mua trực tiếp tại cửa hàng hơn",
         "8"
        ]
       ],
       "shape": {
        "columns": 2,
        "rows": 7
       }
      },
      "text/html": [
       "<div>\n",
       "<style scoped>\n",
       "    .dataframe tbody tr th:only-of-type {\n",
       "        vertical-align: middle;\n",
       "    }\n",
       "\n",
       "    .dataframe tbody tr th {\n",
       "        vertical-align: top;\n",
       "    }\n",
       "\n",
       "    .dataframe thead th {\n",
       "        text-align: right;\n",
       "    }\n",
       "</style>\n",
       "<table border=\"1\" class=\"dataframe\">\n",
       "  <thead>\n",
       "    <tr style=\"text-align: right;\">\n",
       "      <th></th>\n",
       "      <th>Lý do</th>\n",
       "      <th>Số lượng</th>\n",
       "    </tr>\n",
       "  </thead>\n",
       "  <tbody>\n",
       "    <tr>\n",
       "      <th>0</th>\n",
       "      <td>Tôi sợ thông tin cá nhân bị lộ</td>\n",
       "      <td>1</td>\n",
       "    </tr>\n",
       "    <tr>\n",
       "      <th>1</th>\n",
       "      <td>Ứng dụng không có quán trà sữa tôi thích</td>\n",
       "      <td>2</td>\n",
       "    </tr>\n",
       "    <tr>\n",
       "      <th>2</th>\n",
       "      <td>Tôi chưa từng cài đặt ứng dụng giao đồ ăn</td>\n",
       "      <td>4</td>\n",
       "    </tr>\n",
       "    <tr>\n",
       "      <th>3</th>\n",
       "      <td>Tôi không có nhu cầu uống trà sữa</td>\n",
       "      <td>5</td>\n",
       "    </tr>\n",
       "    <tr>\n",
       "      <th>4</th>\n",
       "      <td>Tôi lo ngại về chất lượng khi giao hàng</td>\n",
       "      <td>5</td>\n",
       "    </tr>\n",
       "    <tr>\n",
       "      <th>5</th>\n",
       "      <td>Tôi thấy phí giao hàng quá cao</td>\n",
       "      <td>8</td>\n",
       "    </tr>\n",
       "    <tr>\n",
       "      <th>6</th>\n",
       "      <td>Tôi thích mua trực tiếp tại cửa hàng hơn</td>\n",
       "      <td>8</td>\n",
       "    </tr>\n",
       "  </tbody>\n",
       "</table>\n",
       "</div>"
      ],
      "text/plain": [
       "                                       Lý do  Số lượng\n",
       "0             Tôi sợ thông tin cá nhân bị lộ         1\n",
       "1   Ứng dụng không có quán trà sữa tôi thích         2\n",
       "2  Tôi chưa từng cài đặt ứng dụng giao đồ ăn         4\n",
       "3          Tôi không có nhu cầu uống trà sữa         5\n",
       "4    Tôi lo ngại về chất lượng khi giao hàng         5\n",
       "5             Tôi thấy phí giao hàng quá cao         8\n",
       "6   Tôi thích mua trực tiếp tại cửa hàng hơn         8"
      ]
     },
     "execution_count": 513,
     "metadata": {},
     "output_type": "execute_result"
    }
   ],
   "source": [
    "dictionary_rs"
   ]
  },
  {
   "cell_type": "code",
   "execution_count": 514,
   "metadata": {},
   "outputs": [],
   "source": [
    "import seaborn as sns"
   ]
  },
  {
   "cell_type": "code",
   "execution_count": 515,
   "metadata": {},
   "outputs": [
    {
     "data": {
      "text/plain": [
       "[8, 8, 5, 5, 4, 2, 1]"
      ]
     },
     "execution_count": 515,
     "metadata": {},
     "output_type": "execute_result"
    }
   ],
   "source": [
    "dictionary_rs = dictionary_rs.sort_values(by=\"Số lượng\", ascending=False)\n",
    "arr_count = list(dictionary_rs['Số lượng'])\n",
    "arr_count"
   ]
  },
  {
   "cell_type": "code",
   "execution_count": 516,
   "metadata": {},
   "outputs": [
    {
     "name": "stderr",
     "output_type": "stream",
     "text": [
      "C:\\Users\\ADMIN\\AppData\\Local\\Temp\\ipykernel_20112\\3915797791.py:1: FutureWarning: \n",
      "\n",
      "Passing `palette` without assigning `hue` is deprecated and will be removed in v0.14.0. Assign the `y` variable to `hue` and set `legend=False` for the same effect.\n",
      "\n",
      "  ax = sns.barplot(x='Số lượng', y='Lý do', data=dictionary_rs, palette='bright')\n"
     ]
    },
    {
     "data": {
      "text/plain": [
       "Text(0.5, 1.0, 'Biểu đồ thể hiện lý do chưa từng đặt trà sữa qua app giao hàng')"
      ]
     },
     "execution_count": 516,
     "metadata": {},
     "output_type": "execute_result"
    },
    {
     "data": {
      "image/png": "[encoded data removed]",
      "text/plain": [
       "<Figure size 640x480 with 1 Axes>"
      ]
     },
     "metadata": {},
     "output_type": "display_data"
    }
   ],
   "source": [
    "ax = sns.barplot(x='Số lượng', y='Lý do', data=dictionary_rs, palette='bright')\n",
    "for i, v in enumerate(dictionary_rs[\"Số lượng\"]):\n",
    "    ax.text(v + 0.1, i + 0.1, str((arr_count[i])))\n",
    "plt.title('Biểu đồ thể hiện lý do chưa từng đặt trà sữa qua app giao hàng', fontsize=14, loc='center', pad=20)"
   ]
  },
  {
   "cell_type": "markdown",
   "metadata": {},
   "source": [
    "## 2. Bạn thường mua trà sữa bằng cách nào "
   ]
  },
  {
   "cell_type": "code",
   "execution_count": 517,
   "metadata": {},
   "outputs": [
    {
     "data": {
      "text/plain": [
       "0      Mua trực tiếp tại quán\n",
       "1                         NaN\n",
       "2                         NaN\n",
       "3                         NaN\n",
       "4      Mua trực tiếp tại quán\n",
       "                ...          \n",
       "199                       NaN\n",
       "200                       NaN\n",
       "201                       NaN\n",
       "202                       NaN\n",
       "203                       NaN\n",
       "Name: Bạn thường mua trà sữa bằng cách nào?  , Length: 204, dtype: object"
      ]
     },
     "execution_count": 517,
     "metadata": {},
     "output_type": "execute_result"
    }
   ],
   "source": [
    "data[\"Bạn thường mua trà sữa bằng cách nào?  \"]"
   ]
  },
  {
   "cell_type": "code",
   "execution_count": 518,
   "metadata": {},
   "outputs": [
    {
     "data": {
      "text/plain": [
       "array(['Mua trực tiếp tại quán', nan,\n",
       "       'Mua trực tiếp tại quán, Nhờ bạn bè/ người thân mua giúp',\n",
       "       'Nhờ bạn bè/ người thân mua giúp'], dtype=object)"
      ]
     },
     "execution_count": 518,
     "metadata": {},
     "output_type": "execute_result"
    }
   ],
   "source": [
    "data[\"Bạn thường mua trà sữa bằng cách nào?  \"].unique()"
   ]
  },
  {
   "cell_type": "code",
   "execution_count": 519,
   "metadata": {},
   "outputs": [],
   "source": [
    "method_purchase = data[\"Bạn thường mua trà sữa bằng cách nào?  \"].value_counts()"
   ]
  },
  {
   "cell_type": "code",
   "execution_count": 520,
   "metadata": {},
   "outputs": [
    {
     "data": {
      "text/plain": [
       "pandas.core.series.Series"
      ]
     },
     "execution_count": 520,
     "metadata": {},
     "output_type": "execute_result"
    }
   ],
   "source": [
    "type(method_purchase)"
   ]
  },
  {
   "cell_type": "code",
   "execution_count": 521,
   "metadata": {},
   "outputs": [],
   "source": [
    "method_purchase = method_purchase.to_frame()"
   ]
  },
  {
   "cell_type": "code",
   "execution_count": 522,
   "metadata": {},
   "outputs": [
    {
     "data": {
      "application/vnd.microsoft.datawrangler.viewer.v0+json": {
       "columns": [
        {
         "name": "Bạn thường mua trà sữa bằng cách nào?  ",
         "rawType": "object",
         "type": "string"
        },
        {
         "name": "count",
         "rawType": "int64",
         "type": "integer"
        }
       ],
       "conversionMethod": "pd.DataFrame",
       "ref": "c1eb58a5-aba9-4930-8f25-79b08a5c9c96",
       "rows": [
        [
         "Mua trực tiếp tại quán",
         "35"
        ],
        [
         "Mua trực tiếp tại quán, Nhờ bạn bè/ người thân mua giúp",
         "9"
        ],
        [
         "Nhờ bạn bè/ người thân mua giúp",
         "5"
        ]
       ],
       "shape": {
        "columns": 1,
        "rows": 3
       }
      },
      "text/html": [
       "<div>\n",
       "<style scoped>\n",
       "    .dataframe tbody tr th:only-of-type {\n",
       "        vertical-align: middle;\n",
       "    }\n",
       "\n",
       "    .dataframe tbody tr th {\n",
       "        vertical-align: top;\n",
       "    }\n",
       "\n",
       "    .dataframe thead th {\n",
       "        text-align: right;\n",
       "    }\n",
       "</style>\n",
       "<table border=\"1\" class=\"dataframe\">\n",
       "  <thead>\n",
       "    <tr style=\"text-align: right;\">\n",
       "      <th></th>\n",
       "      <th>count</th>\n",
       "    </tr>\n",
       "    <tr>\n",
       "      <th>Bạn thường mua trà sữa bằng cách nào?</th>\n",
       "      <th></th>\n",
       "    </tr>\n",
       "  </thead>\n",
       "  <tbody>\n",
       "    <tr>\n",
       "      <th>Mua trực tiếp tại quán</th>\n",
       "      <td>35</td>\n",
       "    </tr>\n",
       "    <tr>\n",
       "      <th>Mua trực tiếp tại quán, Nhờ bạn bè/ người thân mua giúp</th>\n",
       "      <td>9</td>\n",
       "    </tr>\n",
       "    <tr>\n",
       "      <th>Nhờ bạn bè/ người thân mua giúp</th>\n",
       "      <td>5</td>\n",
       "    </tr>\n",
       "  </tbody>\n",
       "</table>\n",
       "</div>"
      ],
      "text/plain": [
       "                                                    count\n",
       "Bạn thường mua trà sữa bằng cách nào?                    \n",
       "Mua trực tiếp tại quán                                 35\n",
       "Mua trực tiếp tại quán, Nhờ bạn bè/ người thân ...      9\n",
       "Nhờ bạn bè/ người thân mua giúp                         5"
      ]
     },
     "execution_count": 522,
     "metadata": {},
     "output_type": "execute_result"
    }
   ],
   "source": [
    "method_purchase"
   ]
  },
  {
   "cell_type": "code",
   "execution_count": 523,
   "metadata": {},
   "outputs": [
    {
     "name": "stderr",
     "output_type": "stream",
     "text": [
      "C:\\Users\\ADMIN\\AppData\\Local\\Temp\\ipykernel_20112\\3267167948.py:1: FutureWarning: \n",
      "\n",
      "Passing `palette` without assigning `hue` is deprecated and will be removed in v0.14.0. Assign the `x` variable to `hue` and set `legend=False` for the same effect.\n",
      "\n",
      "  ax = sns.barplot(x='Bạn thường mua trà sữa bằng cách nào?  ', y='count', data=method_purchase, palette='bright')\n"
     ]
    },
    {
     "data": {
      "text/plain": [
       "Text(0.5, 1.0, 'Biểu đồ thể hiện lý do chưa từng đặt trà sữa qua app giao hàng')"
      ]
     },
     "execution_count": 523,
     "metadata": {},
     "output_type": "execute_result"
    },
    {
     "data": {
      "image/png": "[encoded data removed]",
      "text/plain": [
       "<Figure size 640x480 with 1 Axes>"
      ]
     },
     "metadata": {},
     "output_type": "display_data"
    }
   ],
   "source": [
    "ax = sns.barplot(x='Bạn thường mua trà sữa bằng cách nào?  ', y='count', data=method_purchase, palette='bright')\n",
    "for i, p in enumerate(ax.patches):\n",
    "    ax.annotate('{:.1f}'.format(method_purchase['count'].values[i]),\n",
    "                (p.get_x() + p.get_width() / 2., p.get_height()), ha='center', va='center',\n",
    "                xytext=(0, 5), textcoords='offset points')\n",
    "plt.xticks(rotation=90)\n",
    "plt.title('Biểu đồ thể hiện lý do chưa từng đặt trà sữa qua app giao hàng', fontsize=14, loc='center', pad=20)"
   ]
  },
  {
   "cell_type": "markdown",
   "metadata": {},
   "source": [
    "## 3. Điều gì có thể khiến bạn cân nhắc đặt trà sữa qua ứng dụng giao hàng?"
   ]
  },
  {
   "cell_type": "code",
   "execution_count": 524,
   "metadata": {},
   "outputs": [
    {
     "data": {
      "text/plain": [
       "0      Nếu có chương trình giảm giá hấp dẫn, Nếu có f...\n",
       "1                                                    NaN\n",
       "2                                                    NaN\n",
       "3                                                    NaN\n",
       "4                   Nếu có chương trình giảm giá hấp dẫn\n",
       "                             ...                        \n",
       "199                                                  NaN\n",
       "200                                                  NaN\n",
       "201                                                  NaN\n",
       "202                                                  NaN\n",
       "203                                                  NaN\n",
       "Name: Điều gì có thể khiến bạn cân nhắc đặt trà sữa qua ứng dụng giao hàng? (Chọn nhiều đáp án nếu có), Length: 204, dtype: object"
      ]
     },
     "execution_count": 524,
     "metadata": {},
     "output_type": "execute_result"
    }
   ],
   "source": [
    "data[\"Điều gì có thể khiến bạn cân nhắc đặt trà sữa qua ứng dụng giao hàng? (Chọn nhiều đáp án nếu có)\"]"
   ]
  },
  {
   "cell_type": "code",
   "execution_count": 525,
   "metadata": {},
   "outputs": [],
   "source": [
    "reason = data[\"Điều gì có thể khiến bạn cân nhắc đặt trà sữa qua ứng dụng giao hàng? (Chọn nhiều đáp án nếu có)\"]"
   ]
  },
  {
   "cell_type": "code",
   "execution_count": 526,
   "metadata": {},
   "outputs": [
    {
     "data": {
      "text/plain": [
       "array(['Nếu có chương trình giảm giá hấp dẫn, Nếu có freeship hoặc phí giao hàng rẻ hơn, Nếu có nhiều thương hiệu trà sữa yêu thích hơn, Nếu  thời gian giao hàng nhanh hơn',\n",
       "       nan, 'Nếu có chương trình giảm giá hấp dẫn',\n",
       "       'Nếu có chương trình giảm giá hấp dẫn, Nếu có freeship hoặc phí giao hàng rẻ hơn, Nếu có ưu đãi dành cho lần đầu đặt',\n",
       "       'Nếu có chương trình giảm giá hấp dẫn, Nếu có freeship hoặc phí giao hàng rẻ hơn',\n",
       "       'Nếu có nhiều thương hiệu trà sữa yêu thích hơn',\n",
       "       'Nếu có freeship hoặc phí giao hàng rẻ hơn',\n",
       "       'Nếu có chương trình giảm giá hấp dẫn, Nếu có ưu đãi dành cho lần đầu đặt',\n",
       "       'Nếu có chương trình giảm giá hấp dẫn, Nếu có freeship hoặc phí giao hàng rẻ hơn, Nếu có nhiều thương hiệu trà sữa yêu thích hơn',\n",
       "       'Nếu có chương trình giảm giá hấp dẫn, Nếu có freeship hoặc phí giao hàng rẻ hơn, Nếu có nhiều thương hiệu trà sữa yêu thích hơn, Nếu  thời gian giao hàng nhanh hơn, Nếu có ưu đãi dành cho lần đầu đặt',\n",
       "       'Tôi sẽ không đặt dù có ưu đãi',\n",
       "       'Nếu có freeship hoặc phí giao hàng rẻ hơn, Nếu có ưu đãi dành cho lần đầu đặt',\n",
       "       'Nếu có chương trình giảm giá hấp dẫn, Nếu có freeship hoặc phí giao hàng rẻ hơn, Nếu  thời gian giao hàng nhanh hơn',\n",
       "       'Nếu có chương trình giảm giá hấp dẫn, Nếu có freeship hoặc phí giao hàng rẻ hơn, Nếu có nhiều thương hiệu trà sữa yêu thích hơn, Nếu có ưu đãi dành cho lần đầu đặt',\n",
       "       'Nếu có chương trình giảm giá hấp dẫn, Nếu có freeship hoặc phí giao hàng rẻ hơn, Nếu  thời gian giao hàng nhanh hơn, Nếu có ưu đãi dành cho lần đầu đặt',\n",
       "       'Nếu có chương trình giảm giá hấp dẫn, Nếu có nhiều thương hiệu trà sữa yêu thích hơn, Nếu  thời gian giao hàng nhanh hơn'],\n",
       "      dtype=object)"
      ]
     },
     "execution_count": 526,
     "metadata": {},
     "output_type": "execute_result"
    }
   ],
   "source": [
    "data[\"Điều gì có thể khiến bạn cân nhắc đặt trà sữa qua ứng dụng giao hàng? (Chọn nhiều đáp án nếu có)\"].unique()"
   ]
  },
  {
   "cell_type": "code",
   "execution_count": 527,
   "metadata": {},
   "outputs": [
    {
     "data": {
      "text/plain": [
       "pandas.core.series.Series"
      ]
     },
     "execution_count": 527,
     "metadata": {},
     "output_type": "execute_result"
    }
   ],
   "source": [
    "type(reason)"
   ]
  },
  {
   "cell_type": "code",
   "execution_count": 528,
   "metadata": {},
   "outputs": [],
   "source": [
    "reason = reason.value_counts().to_frame().reset_index()"
   ]
  },
  {
   "cell_type": "code",
   "execution_count": 529,
   "metadata": {},
   "outputs": [],
   "source": [
    "dict_reason = {}"
   ]
  },
  {
   "cell_type": "code",
   "execution_count": 530,
   "metadata": {},
   "outputs": [
    {
     "data": {
      "application/vnd.microsoft.datawrangler.viewer.v0+json": {
       "columns": [
        {
         "name": "index",
         "rawType": "int64",
         "type": "integer"
        },
        {
         "name": "Điều gì có thể khiến bạn cân nhắc đặt trà sữa qua ứng dụng giao hàng? (Chọn nhiều đáp án nếu có)",
         "rawType": "object",
         "type": "string"
        },
        {
         "name": "count",
         "rawType": "int64",
         "type": "integer"
        }
       ],
       "conversionMethod": "pd.DataFrame",
       "ref": "622fd1c3-5b27-42ed-ae5a-aee6fd3d8add",
       "rows": [
        [
         "0",
         "Nếu có chương trình giảm giá hấp dẫn",
         "9"
        ],
        [
         "1",
         "Nếu có chương trình giảm giá hấp dẫn, Nếu có freeship hoặc phí giao hàng rẻ hơn",
         "8"
        ],
        [
         "2",
         "Nếu có freeship hoặc phí giao hàng rẻ hơn",
         "7"
        ],
        [
         "3",
         "Tôi sẽ không đặt dù có ưu đãi",
         "6"
        ],
        [
         "4",
         "Nếu có chương trình giảm giá hấp dẫn, Nếu có freeship hoặc phí giao hàng rẻ hơn, Nếu có ưu đãi dành cho lần đầu đặt",
         "3"
        ],
        [
         "5",
         "Nếu có nhiều thương hiệu trà sữa yêu thích hơn",
         "3"
        ],
        [
         "6",
         "Nếu có chương trình giảm giá hấp dẫn, Nếu có freeship hoặc phí giao hàng rẻ hơn, Nếu có nhiều thương hiệu trà sữa yêu thích hơn, Nếu  thời gian giao hàng nhanh hơn, Nếu có ưu đãi dành cho lần đầu đặt",
         "3"
        ],
        [
         "7",
         "Nếu có chương trình giảm giá hấp dẫn, Nếu có ưu đãi dành cho lần đầu đặt",
         "2"
        ],
        [
         "8",
         "Nếu có freeship hoặc phí giao hàng rẻ hơn, Nếu có ưu đãi dành cho lần đầu đặt",
         "2"
        ],
        [
         "9",
         "Nếu có chương trình giảm giá hấp dẫn, Nếu có freeship hoặc phí giao hàng rẻ hơn, Nếu có nhiều thương hiệu trà sữa yêu thích hơn, Nếu  thời gian giao hàng nhanh hơn",
         "1"
        ],
        [
         "10",
         "Nếu có chương trình giảm giá hấp dẫn, Nếu có freeship hoặc phí giao hàng rẻ hơn, Nếu có nhiều thương hiệu trà sữa yêu thích hơn",
         "1"
        ],
        [
         "11",
         "Nếu có chương trình giảm giá hấp dẫn, Nếu có freeship hoặc phí giao hàng rẻ hơn, Nếu  thời gian giao hàng nhanh hơn",
         "1"
        ],
        [
         "12",
         "Nếu có chương trình giảm giá hấp dẫn, Nếu có freeship hoặc phí giao hàng rẻ hơn, Nếu có nhiều thương hiệu trà sữa yêu thích hơn, Nếu có ưu đãi dành cho lần đầu đặt",
         "1"
        ],
        [
         "13",
         "Nếu có chương trình giảm giá hấp dẫn, Nếu có freeship hoặc phí giao hàng rẻ hơn, Nếu  thời gian giao hàng nhanh hơn, Nếu có ưu đãi dành cho lần đầu đặt",
         "1"
        ],
        [
         "14",
         "Nếu có chương trình giảm giá hấp dẫn, Nếu có nhiều thương hiệu trà sữa yêu thích hơn, Nếu  thời gian giao hàng nhanh hơn",
         "1"
        ]
       ],
       "shape": {
        "columns": 2,
        "rows": 15
       }
      },
      "text/html": [
       "<div>\n",
       "<style scoped>\n",
       "    .dataframe tbody tr th:only-of-type {\n",
       "        vertical-align: middle;\n",
       "    }\n",
       "\n",
       "    .dataframe tbody tr th {\n",
       "        vertical-align: top;\n",
       "    }\n",
       "\n",
       "    .dataframe thead th {\n",
       "        text-align: right;\n",
       "    }\n",
       "</style>\n",
       "<table border=\"1\" class=\"dataframe\">\n",
       "  <thead>\n",
       "    <tr style=\"text-align: right;\">\n",
       "      <th></th>\n",
       "      <th>Điều gì có thể khiến bạn cân nhắc đặt trà sữa qua ứng dụng giao hàng? (Chọn nhiều đáp án nếu có)</th>\n",
       "      <th>count</th>\n",
       "    </tr>\n",
       "  </thead>\n",
       "  <tbody>\n",
       "    <tr>\n",
       "      <th>0</th>\n",
       "      <td>Nếu có chương trình giảm giá hấp dẫn</td>\n",
       "      <td>9</td>\n",
       "    </tr>\n",
       "    <tr>\n",
       "      <th>1</th>\n",
       "      <td>Nếu có chương trình giảm giá hấp dẫn, Nếu có f...</td>\n",
       "      <td>8</td>\n",
       "    </tr>\n",
       "    <tr>\n",
       "      <th>2</th>\n",
       "      <td>Nếu có freeship hoặc phí giao hàng rẻ hơn</td>\n",
       "      <td>7</td>\n",
       "    </tr>\n",
       "    <tr>\n",
       "      <th>3</th>\n",
       "      <td>Tôi sẽ không đặt dù có ưu đãi</td>\n",
       "      <td>6</td>\n",
       "    </tr>\n",
       "    <tr>\n",
       "      <th>4</th>\n",
       "      <td>Nếu có chương trình giảm giá hấp dẫn, Nếu có f...</td>\n",
       "      <td>3</td>\n",
       "    </tr>\n",
       "    <tr>\n",
       "      <th>5</th>\n",
       "      <td>Nếu có nhiều thương hiệu trà sữa yêu thích hơn</td>\n",
       "      <td>3</td>\n",
       "    </tr>\n",
       "    <tr>\n",
       "      <th>6</th>\n",
       "      <td>Nếu có chương trình giảm giá hấp dẫn, Nếu có f...</td>\n",
       "      <td>3</td>\n",
       "    </tr>\n",
       "    <tr>\n",
       "      <th>7</th>\n",
       "      <td>Nếu có chương trình giảm giá hấp dẫn, Nếu có ư...</td>\n",
       "      <td>2</td>\n",
       "    </tr>\n",
       "    <tr>\n",
       "      <th>8</th>\n",
       "      <td>Nếu có freeship hoặc phí giao hàng rẻ hơn, Nếu...</td>\n",
       "      <td>2</td>\n",
       "    </tr>\n",
       "    <tr>\n",
       "      <th>9</th>\n",
       "      <td>Nếu có chương trình giảm giá hấp dẫn, Nếu có f...</td>\n",
       "      <td>1</td>\n",
       "    </tr>\n",
       "    <tr>\n",
       "      <th>10</th>\n",
       "      <td>Nếu có chương trình giảm giá hấp dẫn, Nếu có f...</td>\n",
       "      <td>1</td>\n",
       "    </tr>\n",
       "    <tr>\n",
       "      <th>11</th>\n",
       "      <td>Nếu có chương trình giảm giá hấp dẫn, Nếu có f...</td>\n",
       "      <td>1</td>\n",
       "    </tr>\n",
       "    <tr>\n",
       "      <th>12</th>\n",
       "      <td>Nếu có chương trình giảm giá hấp dẫn, Nếu có f...</td>\n",
       "      <td>1</td>\n",
       "    </tr>\n",
       "    <tr>\n",
       "      <th>13</th>\n",
       "      <td>Nếu có chương trình giảm giá hấp dẫn, Nếu có f...</td>\n",
       "      <td>1</td>\n",
       "    </tr>\n",
       "    <tr>\n",
       "      <th>14</th>\n",
       "      <td>Nếu có chương trình giảm giá hấp dẫn, Nếu có n...</td>\n",
       "      <td>1</td>\n",
       "    </tr>\n",
       "  </tbody>\n",
       "</table>\n",
       "</div>"
      ],
      "text/plain": [
       "   Điều gì có thể khiến bạn cân nhắc đặt trà sữa qua ứng dụng giao hàng? (Chọn nhiều đáp án nếu có)  \\\n",
       "0                Nếu có chương trình giảm giá hấp dẫn                                                 \n",
       "1   Nếu có chương trình giảm giá hấp dẫn, Nếu có f...                                                 \n",
       "2           Nếu có freeship hoặc phí giao hàng rẻ hơn                                                 \n",
       "3                       Tôi sẽ không đặt dù có ưu đãi                                                 \n",
       "4   Nếu có chương trình giảm giá hấp dẫn, Nếu có f...                                                 \n",
       "5      Nếu có nhiều thương hiệu trà sữa yêu thích hơn                                                 \n",
       "6   Nếu có chương trình giảm giá hấp dẫn, Nếu có f...                                                 \n",
       "7   Nếu có chương trình giảm giá hấp dẫn, Nếu có ư...                                                 \n",
       "8   Nếu có freeship hoặc phí giao hàng rẻ hơn, Nếu...                                                 \n",
       "9   Nếu có chương trình giảm giá hấp dẫn, Nếu có f...                                                 \n",
       "10  Nếu có chương trình giảm giá hấp dẫn, Nếu có f...                                                 \n",
       "11  Nếu có chương trình giảm giá hấp dẫn, Nếu có f...                                                 \n",
       "12  Nếu có chương trình giảm giá hấp dẫn, Nếu có f...                                                 \n",
       "13  Nếu có chương trình giảm giá hấp dẫn, Nếu có f...                                                 \n",
       "14  Nếu có chương trình giảm giá hấp dẫn, Nếu có n...                                                 \n",
       "\n",
       "    count  \n",
       "0       9  \n",
       "1       8  \n",
       "2       7  \n",
       "3       6  \n",
       "4       3  \n",
       "5       3  \n",
       "6       3  \n",
       "7       2  \n",
       "8       2  \n",
       "9       1  \n",
       "10      1  \n",
       "11      1  \n",
       "12      1  \n",
       "13      1  \n",
       "14      1  "
      ]
     },
     "execution_count": 530,
     "metadata": {},
     "output_type": "execute_result"
    }
   ],
   "source": [
    "reason"
   ]
  },
  {
   "cell_type": "code",
   "execution_count": 531,
   "metadata": {},
   "outputs": [
    {
     "data": {
      "text/plain": [
       "Index(['Điều gì có thể khiến bạn cân nhắc đặt trà sữa qua ứng dụng giao hàng? (Chọn nhiều đáp án nếu có)', 'count'], dtype='object')"
      ]
     },
     "execution_count": 531,
     "metadata": {},
     "output_type": "execute_result"
    }
   ],
   "source": [
    "reason.columns"
   ]
  },
  {
   "cell_type": "code",
   "execution_count": 532,
   "metadata": {},
   "outputs": [
    {
     "data": {
      "text/plain": [
       "0                  Nếu có chương trình giảm giá hấp dẫn\n",
       "1     Nếu có chương trình giảm giá hấp dẫn, Nếu có f...\n",
       "2             Nếu có freeship hoặc phí giao hàng rẻ hơn\n",
       "3                         Tôi sẽ không đặt dù có ưu đãi\n",
       "4     Nếu có chương trình giảm giá hấp dẫn, Nếu có f...\n",
       "5        Nếu có nhiều thương hiệu trà sữa yêu thích hơn\n",
       "6     Nếu có chương trình giảm giá hấp dẫn, Nếu có f...\n",
       "7     Nếu có chương trình giảm giá hấp dẫn, Nếu có ư...\n",
       "8     Nếu có freeship hoặc phí giao hàng rẻ hơn, Nếu...\n",
       "9     Nếu có chương trình giảm giá hấp dẫn, Nếu có f...\n",
       "10    Nếu có chương trình giảm giá hấp dẫn, Nếu có f...\n",
       "11    Nếu có chương trình giảm giá hấp dẫn, Nếu có f...\n",
       "12    Nếu có chương trình giảm giá hấp dẫn, Nếu có f...\n",
       "13    Nếu có chương trình giảm giá hấp dẫn, Nếu có f...\n",
       "14    Nếu có chương trình giảm giá hấp dẫn, Nếu có n...\n",
       "Name: Điều gì có thể khiến bạn cân nhắc đặt trà sữa qua ứng dụng giao hàng? (Chọn nhiều đáp án nếu có), dtype: object"
      ]
     },
     "execution_count": 532,
     "metadata": {},
     "output_type": "execute_result"
    }
   ],
   "source": [
    "reason[\"Điều gì có thể khiến bạn cân nhắc đặt trà sữa qua ứng dụng giao hàng? (Chọn nhiều đáp án nếu có)\"]"
   ]
  },
  {
   "cell_type": "code",
   "execution_count": 533,
   "metadata": {},
   "outputs": [],
   "source": [
    "for i in range(len(reason)):\n",
    "  list_reason = reason[\"Điều gì có thể khiến bạn cân nhắc đặt trà sữa qua ứng dụng giao hàng? (Chọn nhiều đáp án nếu có)\"][i]\n",
    "  amount = reason[\"count\"][i]\n",
    "  for j in range(amount):\n",
    "    spec_reasons = list_reason.split(\", \")\n",
    "    for spec_reason in spec_reasons:\n",
    "      if spec_reason in dict_reason:\n",
    "        dict_reason[spec_reason] += 1\n",
    "      else:\n",
    "        dict_reason[spec_reason] = 1"
   ]
  },
  {
   "cell_type": "code",
   "execution_count": 534,
   "metadata": {},
   "outputs": [
    {
     "data": {
      "text/plain": [
       "{'Nếu có chương trình giảm giá hấp dẫn': 31,\n",
       " 'Nếu có freeship hoặc phí giao hàng rẻ hơn': 28,\n",
       " 'Tôi sẽ không đặt dù có ưu đãi': 6,\n",
       " 'Nếu có ưu đãi dành cho lần đầu đặt': 12,\n",
       " 'Nếu có nhiều thương hiệu trà sữa yêu thích hơn': 10,\n",
       " 'Nếu  thời gian giao hàng nhanh hơn': 7}"
      ]
     },
     "execution_count": 534,
     "metadata": {},
     "output_type": "execute_result"
    }
   ],
   "source": [
    "dict_reason"
   ]
  },
  {
   "cell_type": "code",
   "execution_count": 535,
   "metadata": {},
   "outputs": [],
   "source": [
    "dict_reason = pd.DataFrame(list(dict_reason.items()), columns=['Nguyên nhân', 'Số lượng'])"
   ]
  },
  {
   "cell_type": "code",
   "execution_count": 536,
   "metadata": {},
   "outputs": [
    {
     "data": {
      "application/vnd.microsoft.datawrangler.viewer.v0+json": {
       "columns": [
        {
         "name": "index",
         "rawType": "int64",
         "type": "integer"
        },
        {
         "name": "Nguyên nhân",
         "rawType": "object",
         "type": "string"
        },
        {
         "name": "Số lượng",
         "rawType": "int64",
         "type": "integer"
        }
       ],
       "conversionMethod": "pd.DataFrame",
       "ref": "dd462c69-86b6-4d3c-970f-68160edcbf9b",
       "rows": [
        [
         "0",
         "Nếu có chương trình giảm giá hấp dẫn",
         "31"
        ],
        [
         "1",
         "Nếu có freeship hoặc phí giao hàng rẻ hơn",
         "28"
        ],
        [
         "2",
         "Tôi sẽ không đặt dù có ưu đãi",
         "6"
        ],
        [
         "3",
         "Nếu có ưu đãi dành cho lần đầu đặt",
         "12"
        ],
        [
         "4",
         "Nếu có nhiều thương hiệu trà sữa yêu thích hơn",
         "10"
        ],
        [
         "5",
         "Nếu  thời gian giao hàng nhanh hơn",
         "7"
        ]
       ],
       "shape": {
        "columns": 2,
        "rows": 6
       }
      },
      "text/html": [
       "<div>\n",
       "<style scoped>\n",
       "    .dataframe tbody tr th:only-of-type {\n",
       "        vertical-align: middle;\n",
       "    }\n",
       "\n",
       "    .dataframe tbody tr th {\n",
       "        vertical-align: top;\n",
       "    }\n",
       "\n",
       "    .dataframe thead th {\n",
       "        text-align: right;\n",
       "    }\n",
       "</style>\n",
       "<table border=\"1\" class=\"dataframe\">\n",
       "  <thead>\n",
       "    <tr style=\"text-align: right;\">\n",
       "      <th></th>\n",
       "      <th>Nguyên nhân</th>\n",
       "      <th>Số lượng</th>\n",
       "    </tr>\n",
       "  </thead>\n",
       "  <tbody>\n",
       "    <tr>\n",
       "      <th>0</th>\n",
       "      <td>Nếu có chương trình giảm giá hấp dẫn</td>\n",
       "      <td>31</td>\n",
       "    </tr>\n",
       "    <tr>\n",
       "      <th>1</th>\n",
       "      <td>Nếu có freeship hoặc phí giao hàng rẻ hơn</td>\n",
       "      <td>28</td>\n",
       "    </tr>\n",
       "    <tr>\n",
       "      <th>2</th>\n",
       "      <td>Tôi sẽ không đặt dù có ưu đãi</td>\n",
       "      <td>6</td>\n",
       "    </tr>\n",
       "    <tr>\n",
       "      <th>3</th>\n",
       "      <td>Nếu có ưu đãi dành cho lần đầu đặt</td>\n",
       "      <td>12</td>\n",
       "    </tr>\n",
       "    <tr>\n",
       "      <th>4</th>\n",
       "      <td>Nếu có nhiều thương hiệu trà sữa yêu thích hơn</td>\n",
       "      <td>10</td>\n",
       "    </tr>\n",
       "    <tr>\n",
       "      <th>5</th>\n",
       "      <td>Nếu  thời gian giao hàng nhanh hơn</td>\n",
       "      <td>7</td>\n",
       "    </tr>\n",
       "  </tbody>\n",
       "</table>\n",
       "</div>"
      ],
      "text/plain": [
       "                                      Nguyên nhân  Số lượng\n",
       "0            Nếu có chương trình giảm giá hấp dẫn        31\n",
       "1       Nếu có freeship hoặc phí giao hàng rẻ hơn        28\n",
       "2                   Tôi sẽ không đặt dù có ưu đãi         6\n",
       "3              Nếu có ưu đãi dành cho lần đầu đặt        12\n",
       "4  Nếu có nhiều thương hiệu trà sữa yêu thích hơn        10\n",
       "5              Nếu  thời gian giao hàng nhanh hơn         7"
      ]
     },
     "execution_count": 536,
     "metadata": {},
     "output_type": "execute_result"
    }
   ],
   "source": [
    "dict_reason"
   ]
  },
  {
   "cell_type": "code",
   "execution_count": 537,
   "metadata": {},
   "outputs": [
    {
     "data": {
      "text/plain": [
       "[31, 28, 12, 10, 7, 6]"
      ]
     },
     "execution_count": 537,
     "metadata": {},
     "output_type": "execute_result"
    }
   ],
   "source": [
    "dict_reason = dict_reason.sort_values(by=\"Số lượng\", ascending=False)\n",
    "arr_count = list(dict_reason['Số lượng'])\n",
    "arr_count"
   ]
  },
  {
   "cell_type": "code",
   "execution_count": 538,
   "metadata": {},
   "outputs": [
    {
     "name": "stderr",
     "output_type": "stream",
     "text": [
      "C:\\Users\\ADMIN\\AppData\\Local\\Temp\\ipykernel_20112\\2514354599.py:1: FutureWarning: \n",
      "\n",
      "Passing `palette` without assigning `hue` is deprecated and will be removed in v0.14.0. Assign the `x` variable to `hue` and set `legend=False` for the same effect.\n",
      "\n",
      "  ax = sns.barplot(x='Nguyên nhân', y='Số lượng', data=dict_reason, palette='bright')\n"
     ]
    },
    {
     "data": {
      "text/plain": [
       "Text(0.5, 1.0, 'Biểu đồ thể hiện nguyên nhân cân nhắc đặt trà sữa qua các ứng dụng giao hàng')"
      ]
     },
     "execution_count": 538,
     "metadata": {},
     "output_type": "execute_result"
    },
    {
     "data": {
      "image/png": "[encoded data removed]",
      "text/plain": [
       "<Figure size 640x480 with 1 Axes>"
      ]
     },
     "metadata": {},
     "output_type": "display_data"
    }
   ],
   "source": [
    "ax = sns.barplot(x='Nguyên nhân', y='Số lượng', data=dict_reason, palette='bright')\n",
    "for i, p in enumerate(ax.patches):\n",
    "    ax.annotate('{:.1f}'.format(dict_reason['Số lượng'].values[i]),\n",
    "                (p.get_x() + p.get_width() / 2., p.get_height()), ha='center', va='center',\n",
    "                xytext=(0, 5), textcoords='offset points')\n",
    "plt.xticks(rotation=90)\n",
    "plt.xlabel('Nguyên nhân', fontsize=13)\n",
    "plt.ylabel('Số lượng', fontsize=13)\n",
    "plt.title('Biểu đồ thể hiện nguyên nhân cân nhắc đặt trà sữa qua các ứng dụng giao hàng', fontsize=14, loc='center', pad=20)"
   ]
  },
  {
   "cell_type": "markdown",
   "metadata": {},
   "source": [
    "## 4. Bạn có dự định sử dụng ứng dụng giao hàng để đặt trà sữa trong tương lai không?"
   ]
  },
  {
   "cell_type": "code",
   "execution_count": 539,
   "metadata": {},
   "outputs": [],
   "source": [
    "plan = data[\"  Bạn có dự định sử dụng ứng dụng giao hàng để đặt trà sữa trong tương lai không?  \"]"
   ]
  },
  {
   "cell_type": "code",
   "execution_count": 540,
   "metadata": {},
   "outputs": [
    {
     "data": {
      "text/plain": [
       "array(['Có, tôi sẽ thử nếu ưu đãi tốt', nan,\n",
       "       'Có thể, nhưng tôi vẫn thích mua trực tiếp hơn',\n",
       "       'Có thể, nhưng tôi vẫn thích mua trực tiếp hơn, Không, tôi không có nhu cầu đặt trà sữa qua ứng dụng',\n",
       "       'Không, tôi không có nhu cầu đặt trà sữa qua ứng dụng',\n",
       "       'Có, tôi sẽ thử nếu ưu đãi tốt, Có thể, nhưng tôi vẫn thích mua trực tiếp hơn'],\n",
       "      dtype=object)"
      ]
     },
     "execution_count": 540,
     "metadata": {},
     "output_type": "execute_result"
    }
   ],
   "source": [
    "plan.unique()"
   ]
  },
  {
   "cell_type": "code",
   "execution_count": 541,
   "metadata": {},
   "outputs": [
    {
     "data": {
      "text/plain": [
       "  Bạn có dự định sử dụng ứng dụng giao hàng để đặt trà sữa trong tương lai không?  \n",
       "Có, tôi sẽ thử nếu ưu đãi tốt                                                                          27\n",
       "Có thể, nhưng tôi vẫn thích mua trực tiếp hơn                                                          11\n",
       "Không, tôi không có nhu cầu đặt trà sữa qua ứng dụng                                                    6\n",
       "Có, tôi sẽ thử nếu ưu đãi tốt, Có thể, nhưng tôi vẫn thích mua trực tiếp hơn                            4\n",
       "Có thể, nhưng tôi vẫn thích mua trực tiếp hơn, Không, tôi không có nhu cầu đặt trà sữa qua ứng dụng     1\n",
       "Name: count, dtype: int64"
      ]
     },
     "execution_count": 541,
     "metadata": {},
     "output_type": "execute_result"
    }
   ],
   "source": [
    "plan.value_counts()"
   ]
  },
  {
   "cell_type": "code",
   "execution_count": 542,
   "metadata": {},
   "outputs": [],
   "source": [
    "dict_plan = {\n",
    "  \"Có, tôi sẽ thử nếu ưu đãi tốt\": plan\n",
    "}"
   ]
  },
  {
   "cell_type": "code",
   "execution_count": 543,
   "metadata": {},
   "outputs": [],
   "source": [
    "plan = plan.value_counts().to_frame().reset_index()"
   ]
  },
  {
   "cell_type": "code",
   "execution_count": 544,
   "metadata": {},
   "outputs": [
    {
     "data": {
      "application/vnd.microsoft.datawrangler.viewer.v0+json": {
       "columns": [
        {
         "name": "index",
         "rawType": "int64",
         "type": "integer"
        },
        {
         "name": "  Bạn có dự định sử dụng ứng dụng giao hàng để đặt trà sữa trong tương lai không?  ",
         "rawType": "object",
         "type": "string"
        },
        {
         "name": "count",
         "rawType": "int64",
         "type": "integer"
        }
       ],
       "conversionMethod": "pd.DataFrame",
       "ref": "ec09907e-cb36-4436-9521-a3b2bd8fcf62",
       "rows": [
        [
         "0",
         "Có, tôi sẽ thử nếu ưu đãi tốt",
         "27"
        ],
        [
         "1",
         "Có thể, nhưng tôi vẫn thích mua trực tiếp hơn",
         "11"
        ],
        [
         "2",
         "Không, tôi không có nhu cầu đặt trà sữa qua ứng dụng",
         "6"
        ],
        [
         "3",
         "Có, tôi sẽ thử nếu ưu đãi tốt, Có thể, nhưng tôi vẫn thích mua trực tiếp hơn",
         "4"
        ],
        [
         "4",
         "Có thể, nhưng tôi vẫn thích mua trực tiếp hơn, Không, tôi không có nhu cầu đặt trà sữa qua ứng dụng",
         "1"
        ]
       ],
       "shape": {
        "columns": 2,
        "rows": 5
       }
      },
      "text/html": [
       "<div>\n",
       "<style scoped>\n",
       "    .dataframe tbody tr th:only-of-type {\n",
       "        vertical-align: middle;\n",
       "    }\n",
       "\n",
       "    .dataframe tbody tr th {\n",
       "        vertical-align: top;\n",
       "    }\n",
       "\n",
       "    .dataframe thead th {\n",
       "        text-align: right;\n",
       "    }\n",
       "</style>\n",
       "<table border=\"1\" class=\"dataframe\">\n",
       "  <thead>\n",
       "    <tr style=\"text-align: right;\">\n",
       "      <th></th>\n",
       "      <th>Bạn có dự định sử dụng ứng dụng giao hàng để đặt trà sữa trong tương lai không?</th>\n",
       "      <th>count</th>\n",
       "    </tr>\n",
       "  </thead>\n",
       "  <tbody>\n",
       "    <tr>\n",
       "      <th>0</th>\n",
       "      <td>Có, tôi sẽ thử nếu ưu đãi tốt</td>\n",
       "      <td>27</td>\n",
       "    </tr>\n",
       "    <tr>\n",
       "      <th>1</th>\n",
       "      <td>Có thể, nhưng tôi vẫn thích mua trực tiếp hơn</td>\n",
       "      <td>11</td>\n",
       "    </tr>\n",
       "    <tr>\n",
       "      <th>2</th>\n",
       "      <td>Không, tôi không có nhu cầu đặt trà sữa qua ứn...</td>\n",
       "      <td>6</td>\n",
       "    </tr>\n",
       "    <tr>\n",
       "      <th>3</th>\n",
       "      <td>Có, tôi sẽ thử nếu ưu đãi tốt, Có thể, nhưng t...</td>\n",
       "      <td>4</td>\n",
       "    </tr>\n",
       "    <tr>\n",
       "      <th>4</th>\n",
       "      <td>Có thể, nhưng tôi vẫn thích mua trực tiếp hơn,...</td>\n",
       "      <td>1</td>\n",
       "    </tr>\n",
       "  </tbody>\n",
       "</table>\n",
       "</div>"
      ],
      "text/plain": [
       "    Bạn có dự định sử dụng ứng dụng giao hàng để đặt trà sữa trong tương lai không?    \\\n",
       "0                      Có, tôi sẽ thử nếu ưu đãi tốt                                    \n",
       "1      Có thể, nhưng tôi vẫn thích mua trực tiếp hơn                                    \n",
       "2  Không, tôi không có nhu cầu đặt trà sữa qua ứn...                                    \n",
       "3  Có, tôi sẽ thử nếu ưu đãi tốt, Có thể, nhưng t...                                    \n",
       "4  Có thể, nhưng tôi vẫn thích mua trực tiếp hơn,...                                    \n",
       "\n",
       "   count  \n",
       "0     27  \n",
       "1     11  \n",
       "2      6  \n",
       "3      4  \n",
       "4      1  "
      ]
     },
     "execution_count": 544,
     "metadata": {},
     "output_type": "execute_result"
    }
   ],
   "source": [
    "plan"
   ]
  },
  {
   "cell_type": "code",
   "execution_count": 545,
   "metadata": {},
   "outputs": [
    {
     "data": {
      "text/plain": [
       "49"
      ]
     },
     "execution_count": 545,
     "metadata": {},
     "output_type": "execute_result"
    }
   ],
   "source": [
    "sum = 0\n",
    "for value in plan[\"count\"]:\n",
    "  sum += value\n",
    "sum"
   ]
  },
  {
   "cell_type": "code",
   "execution_count": 546,
   "metadata": {},
   "outputs": [
    {
     "data": {
      "text/plain": [
       "0    0.551020\n",
       "1    0.224490\n",
       "2    0.122449\n",
       "3    0.081633\n",
       "4    0.020408\n",
       "Name: count, dtype: float64"
      ]
     },
     "execution_count": 546,
     "metadata": {},
     "output_type": "execute_result"
    }
   ],
   "source": [
    "rates = plan[\"count\"] / sum\n",
    "rates"
   ]
  },
  {
   "cell_type": "code",
   "execution_count": 547,
   "metadata": {},
   "outputs": [],
   "source": [
    "labels = [\"Có, tôi sẽ thử nếu ưu đãi tốt\", \"Có thể, nhưng tôi vẫn thích mua trực tiếp hơn\", \"Không, tôi không có nhu cầu đặt trà sữa qua ứng dụng\", \"Có, tôi sẽ thử nếu ưu đãi tốt, Có thể, nhưng tôi vẫn thích mua trực tiếp hơn\", \"Có thể, nhưng tôi vẫn thích mua trực tiếp hơn, Không, tôi không có nhu cầu đặt trà sữa qua ứng dụng\"]\n",
    "labels_short = [\"r1\", \"r2\", \"r3\", \"r4\", \"r5\"]"
   ]
  },
  {
   "cell_type": "code",
   "execution_count": 548,
   "metadata": {},
   "outputs": [
    {
     "data": {
      "text/plain": [
       "<matplotlib.legend.Legend at 0x1a68d5416a0>"
      ]
     },
     "execution_count": 548,
     "metadata": {},
     "output_type": "execute_result"
    },
    {
     "data": {
      "image/png": "[encoded data removed]",
      "text/plain": [
       "<Figure size 640x480 with 1 Axes>"
      ]
     },
     "metadata": {},
     "output_type": "display_data"
    }
   ],
   "source": [
    "plt.pie(rates, autopct='%1.1f%%', startangle=90)\n",
    "plt.title('Biểu đồ dự định sử dụng ứng dụng giao hàng trong tương lai', loc='center', fontsize=16)\n",
    "plt.legend(labels, loc='lower left',bbox_to_anchor=(1, 0.5), title='Các dự định')"
   ]
  },
  {
   "cell_type": "markdown",
   "metadata": {},
   "source": [
    "## 5. Bạn đã nghe qua thương hiệu nào dưới đây chưa? Dùng biểu đồ thanh ( để 4 cột Grab , be , shoppee , khác)"
   ]
  },
  {
   "cell_type": "code",
   "execution_count": 549,
   "metadata": {},
   "outputs": [],
   "source": [
    "trademark = data[\"Bạn đã nghe qua thương hiệu nào dưới đây chưa?\"]"
   ]
  },
  {
   "cell_type": "code",
   "execution_count": 550,
   "metadata": {},
   "outputs": [
    {
     "data": {
      "application/vnd.microsoft.datawrangler.viewer.v0+json": {
       "columns": [
        {
         "name": "index",
         "rawType": "int64",
         "type": "integer"
        },
        {
         "name": "Bạn đã nghe qua thương hiệu nào dưới đây chưa?",
         "rawType": "object",
         "type": "string"
        },
        {
         "name": "count",
         "rawType": "int64",
         "type": "integer"
        }
       ],
       "conversionMethod": "pd.DataFrame",
       "ref": "ffcd5772-2c3c-496b-8a11-2d2519cbcf0d",
       "rows": [
        [
         "0",
         "shoppee food, Grab food, Be Food",
         "21"
        ],
        [
         "1",
         "shoppee food, Grab food",
         "12"
        ],
        [
         "2",
         "shoppee food",
         "8"
        ],
        [
         "3",
         "Grab food",
         "2"
        ],
        [
         "4",
         "shoppee food, Grab food, Be Food, Nhiều",
         "1"
        ],
        [
         "5",
         "Be Food, Chưa từng nghe qua, Vhh",
         "1"
        ],
        [
         "6",
         "Chưa từng nghe qua",
         "1"
        ],
        [
         "7",
         "Be Food",
         "1"
        ],
        [
         "8",
         "Grab food, Be Food",
         "1"
        ],
        [
         "9",
         "shoppee food, Be Food",
         "1"
        ]
       ],
       "shape": {
        "columns": 2,
        "rows": 10
       }
      },
      "text/html": [
       "<div>\n",
       "<style scoped>\n",
       "    .dataframe tbody tr th:only-of-type {\n",
       "        vertical-align: middle;\n",
       "    }\n",
       "\n",
       "    .dataframe tbody tr th {\n",
       "        vertical-align: top;\n",
       "    }\n",
       "\n",
       "    .dataframe thead th {\n",
       "        text-align: right;\n",
       "    }\n",
       "</style>\n",
       "<table border=\"1\" class=\"dataframe\">\n",
       "  <thead>\n",
       "    <tr style=\"text-align: right;\">\n",
       "      <th></th>\n",
       "      <th>Bạn đã nghe qua thương hiệu nào dưới đây chưa?</th>\n",
       "      <th>count</th>\n",
       "    </tr>\n",
       "  </thead>\n",
       "  <tbody>\n",
       "    <tr>\n",
       "      <th>0</th>\n",
       "      <td>shoppee food, Grab food, Be Food</td>\n",
       "      <td>21</td>\n",
       "    </tr>\n",
       "    <tr>\n",
       "      <th>1</th>\n",
       "      <td>shoppee food, Grab food</td>\n",
       "      <td>12</td>\n",
       "    </tr>\n",
       "    <tr>\n",
       "      <th>2</th>\n",
       "      <td>shoppee food</td>\n",
       "      <td>8</td>\n",
       "    </tr>\n",
       "    <tr>\n",
       "      <th>3</th>\n",
       "      <td>Grab food</td>\n",
       "      <td>2</td>\n",
       "    </tr>\n",
       "    <tr>\n",
       "      <th>4</th>\n",
       "      <td>shoppee food, Grab food, Be Food, Nhiều</td>\n",
       "      <td>1</td>\n",
       "    </tr>\n",
       "    <tr>\n",
       "      <th>5</th>\n",
       "      <td>Be Food, Chưa từng nghe qua, Vhh</td>\n",
       "      <td>1</td>\n",
       "    </tr>\n",
       "    <tr>\n",
       "      <th>6</th>\n",
       "      <td>Chưa từng nghe qua</td>\n",
       "      <td>1</td>\n",
       "    </tr>\n",
       "    <tr>\n",
       "      <th>7</th>\n",
       "      <td>Be Food</td>\n",
       "      <td>1</td>\n",
       "    </tr>\n",
       "    <tr>\n",
       "      <th>8</th>\n",
       "      <td>Grab food, Be Food</td>\n",
       "      <td>1</td>\n",
       "    </tr>\n",
       "    <tr>\n",
       "      <th>9</th>\n",
       "      <td>shoppee food, Be Food</td>\n",
       "      <td>1</td>\n",
       "    </tr>\n",
       "  </tbody>\n",
       "</table>\n",
       "</div>"
      ],
      "text/plain": [
       "  Bạn đã nghe qua thương hiệu nào dưới đây chưa?  count\n",
       "0               shoppee food, Grab food, Be Food     21\n",
       "1                        shoppee food, Grab food     12\n",
       "2                                   shoppee food      8\n",
       "3                                      Grab food      2\n",
       "4        shoppee food, Grab food, Be Food, Nhiều      1\n",
       "5               Be Food, Chưa từng nghe qua, Vhh      1\n",
       "6                             Chưa từng nghe qua      1\n",
       "7                                        Be Food      1\n",
       "8                             Grab food, Be Food      1\n",
       "9                          shoppee food, Be Food      1"
      ]
     },
     "execution_count": 550,
     "metadata": {},
     "output_type": "execute_result"
    }
   ],
   "source": [
    "trademark = trademark.value_counts().to_frame().reset_index()\n",
    "trademark"
   ]
  },
  {
   "cell_type": "code",
   "execution_count": 551,
   "metadata": {},
   "outputs": [],
   "source": [
    "dict_trademark = {}"
   ]
  },
  {
   "cell_type": "code",
   "execution_count": 553,
   "metadata": {},
   "outputs": [],
   "source": [
    "for i in range(len(trademark)):\n",
    "  list_trademark = trademark[\"Bạn đã nghe qua thương hiệu nào dưới đây chưa?\"][i]\n",
    "  amount = trademark[\"count\"][i]\n",
    "  for j in range(amount):\n",
    "    spec_trademarks = list_trademark.split(\", \")\n",
    "    for spec_trademark in spec_trademarks:\n",
    "      if spec_trademark in dict_trademark:\n",
    "        dict_trademark[spec_trademark] += 1\n",
    "      else:\n",
    "        dict_trademark[spec_trademark] = 1"
   ]
  },
  {
   "cell_type": "code",
   "execution_count": 554,
   "metadata": {},
   "outputs": [
    {
     "data": {
      "text/plain": [
       "{'shoppee food': 43,\n",
       " 'Grab food': 37,\n",
       " 'Be Food': 26,\n",
       " 'Nhiều': 1,\n",
       " 'Chưa từng nghe qua': 2,\n",
       " 'Vhh': 1}"
      ]
     },
     "execution_count": 554,
     "metadata": {},
     "output_type": "execute_result"
    }
   ],
   "source": [
    "dict_trademark"
   ]
  },
  {
   "cell_type": "code",
   "execution_count": 555,
   "metadata": {},
   "outputs": [],
   "source": [
    "dict_trademark[\"Khác\"] = dict_trademark[\"Nhiều\"] + dict_trademark[\"Chưa từng nghe qua\"] + dict_trademark[\"Vhh\"]"
   ]
  },
  {
   "cell_type": "code",
   "execution_count": 556,
   "metadata": {},
   "outputs": [
    {
     "data": {
      "text/plain": [
       "{'shoppee food': 43,\n",
       " 'Grab food': 37,\n",
       " 'Be Food': 26,\n",
       " 'Nhiều': 1,\n",
       " 'Chưa từng nghe qua': 2,\n",
       " 'Vhh': 1,\n",
       " 'Khác': 4}"
      ]
     },
     "execution_count": 556,
     "metadata": {},
     "output_type": "execute_result"
    }
   ],
   "source": [
    "dict_trademark"
   ]
  },
  {
   "cell_type": "code",
   "execution_count": 557,
   "metadata": {},
   "outputs": [],
   "source": [
    "del dict_trademark[\"Nhiều\"]\n",
    "del dict_trademark[\"Chưa từng nghe qua\"]\n",
    "del dict_trademark[\"Vhh\"]"
   ]
  },
  {
   "cell_type": "code",
   "execution_count": 558,
   "metadata": {},
   "outputs": [
    {
     "data": {
      "text/plain": [
       "{'shoppee food': 43, 'Grab food': 37, 'Be Food': 26, 'Khác': 4}"
      ]
     },
     "execution_count": 558,
     "metadata": {},
     "output_type": "execute_result"
    }
   ],
   "source": [
    "dict_trademark"
   ]
  },
  {
   "cell_type": "code",
   "execution_count": 559,
   "metadata": {},
   "outputs": [],
   "source": [
    "trademark = pd.DataFrame(list(dict_trademark.items()), columns=['Nhãn', 'Số lượng'])"
   ]
  },
  {
   "cell_type": "code",
   "execution_count": 560,
   "metadata": {},
   "outputs": [
    {
     "data": {
      "application/vnd.microsoft.datawrangler.viewer.v0+json": {
       "columns": [
        {
         "name": "index",
         "rawType": "int64",
         "type": "integer"
        },
        {
         "name": "Nhãn",
         "rawType": "object",
         "type": "string"
        },
        {
         "name": "Số lượng",
         "rawType": "int64",
         "type": "integer"
        }
       ],
       "conversionMethod": "pd.DataFrame",
       "ref": "16aedd88-b0a1-4055-a0a0-3ecf7b0c1ecf",
       "rows": [
        [
         "0",
         "shoppee food",
         "43"
        ],
        [
         "1",
         "Grab food",
         "37"
        ],
        [
         "2",
         "Be Food",
         "26"
        ],
        [
         "3",
         "Khác",
         "4"
        ]
       ],
       "shape": {
        "columns": 2,
        "rows": 4
       }
      },
      "text/html": [
       "<div>\n",
       "<style scoped>\n",
       "    .dataframe tbody tr th:only-of-type {\n",
       "        vertical-align: middle;\n",
       "    }\n",
       "\n",
       "    .dataframe tbody tr th {\n",
       "        vertical-align: top;\n",
       "    }\n",
       "\n",
       "    .dataframe thead th {\n",
       "        text-align: right;\n",
       "    }\n",
       "</style>\n",
       "<table border=\"1\" class=\"dataframe\">\n",
       "  <thead>\n",
       "    <tr style=\"text-align: right;\">\n",
       "      <th></th>\n",
       "      <th>Nhãn</th>\n",
       "      <th>Số lượng</th>\n",
       "    </tr>\n",
       "  </thead>\n",
       "  <tbody>\n",
       "    <tr>\n",
       "      <th>0</th>\n",
       "      <td>shoppee food</td>\n",
       "      <td>43</td>\n",
       "    </tr>\n",
       "    <tr>\n",
       "      <th>1</th>\n",
       "      <td>Grab food</td>\n",
       "      <td>37</td>\n",
       "    </tr>\n",
       "    <tr>\n",
       "      <th>2</th>\n",
       "      <td>Be Food</td>\n",
       "      <td>26</td>\n",
       "    </tr>\n",
       "    <tr>\n",
       "      <th>3</th>\n",
       "      <td>Khác</td>\n",
       "      <td>4</td>\n",
       "    </tr>\n",
       "  </tbody>\n",
       "</table>\n",
       "</div>"
      ],
      "text/plain": [
       "           Nhãn  Số lượng\n",
       "0  shoppee food        43\n",
       "1     Grab food        37\n",
       "2       Be Food        26\n",
       "3          Khác         4"
      ]
     },
     "execution_count": 560,
     "metadata": {},
     "output_type": "execute_result"
    }
   ],
   "source": [
    "trademark"
   ]
  },
  {
   "cell_type": "code",
   "execution_count": 562,
   "metadata": {},
   "outputs": [
    {
     "name": "stderr",
     "output_type": "stream",
     "text": [
      "C:\\Users\\ADMIN\\AppData\\Local\\Temp\\ipykernel_20112\\533132379.py:1: FutureWarning: \n",
      "\n",
      "Passing `palette` without assigning `hue` is deprecated and will be removed in v0.14.0. Assign the `x` variable to `hue` and set `legend=False` for the same effect.\n",
      "\n",
      "  ax = sns.barplot(x='Nhãn', y='Số lượng', data=trademark, palette='bright')\n"
     ]
    },
    {
     "data": {
      "text/plain": [
       "Text(0.5, 1.0, 'Biểu đồ thể hiện nguyên nhân cân nhắc đặt trà sữa qua các ứng dụng giao hàng')"
      ]
     },
     "execution_count": 562,
     "metadata": {},
     "output_type": "execute_result"
    },
    {
     "data": {
      "image/png": "[encoded data removed]",
      "text/plain": [
       "<Figure size 640x480 with 1 Axes>"
      ]
     },
     "metadata": {},
     "output_type": "display_data"
    }
   ],
   "source": [
    "ax = sns.barplot(x='Nhãn', y='Số lượng', data=trademark, palette='bright')\n",
    "for i, p in enumerate(ax.patches):\n",
    "    ax.annotate('{:.1f}'.format(trademark['Số lượng'].values[i]),\n",
    "                (p.get_x() + p.get_width() / 2., p.get_height()), ha='center', va='center',\n",
    "                xytext=(0, 5), textcoords='offset points')\n",
    "plt.xlabel('Các thương hiệu', fontsize=13)\n",
    "plt.ylabel('Số lượng', fontsize=13)\n",
    "plt.title('Biểu đồ thể hiện nguyên nhân cân nhắc đặt trà sữa qua các ứng dụng giao hàng', fontsize=14, loc='center', pad=20)"
   ]
  },
  {
   "cell_type": "markdown",
   "metadata": {},
   "source": [
    "## 1. Bạn có đã từng đặt trà sữa qua ứng dụng giao hàng nào? Biểu đồ thanh giống câu 5 phần I"
   ]
  },
  {
   "cell_type": "code",
   "execution_count": 565,
   "metadata": {},
   "outputs": [],
   "source": [
    "app = data['Bạn có đã từng đặt trà sữa qua ứng dụng giao hàng nào?']"
   ]
  },
  {
   "cell_type": "code",
   "execution_count": 566,
   "metadata": {},
   "outputs": [],
   "source": [
    "app = app.value_counts().to_frame().reset_index()"
   ]
  },
  {
   "cell_type": "code",
   "execution_count": null,
   "metadata": {},
   "outputs": [
    {
     "data": {
      "application/vnd.microsoft.datawrangler.viewer.v0+json": {
       "columns": [
        {
         "name": "index",
         "rawType": "int64",
         "type": "integer"
        },
        {
         "name": "Bạn có đã từng đặt trà sữa qua ứng dụng giao hàng nào?",
         "rawType": "object",
         "type": "string"
        },
        {
         "name": "count",
         "rawType": "int64",
         "type": "integer"
        }
       ],
       "conversionMethod": "pd.DataFrame",
       "ref": "355c0a8b-4cfa-43af-8a55-b9807f782b5e",
       "rows": [
        [
         "0",
         "shoppee food",
         "44"
        ],
        [
         "1",
         "shoppee food, Grab",
         "35"
        ],
        [
         "2",
         "shoppee food, Grab, Be food",
         "31"
        ],
        [
         "3",
         "Grab",
         "11"
        ],
        [
         "4",
         "Be food",
         "8"
        ],
        [
         "5",
         "shoppee food, Be food",
         "6"
        ],
        [
         "6",
         "shoppee food, Grab, Be food, Ứng dụng giao hàng của cửa hàng",
         "4"
        ],
        [
         "7",
         "Ứng dụng giao hàng của cửa hàng",
         "4"
        ],
        [
         "8",
         "shoppee food, Be food, Ứng dụng giao hàng của cửa hàng",
         "3"
        ],
        [
         "9",
         "Grab, Be food",
         "2"
        ],
        [
         "10",
         "shoppee food, Grab, Ứng dụng giao hàng của cửa hàng",
         "2"
        ],
        [
         "11",
         "Be food, Ứng dụng giao hàng của cửa hàng",
         "1"
        ],
        [
         "12",
         "shoppee food, Ứng dụng giao hàng của cửa hàng",
         "1"
        ],
        [
         "13",
         "Grab, Be food, Ứng dụng giao hàng của cửa hàng",
         "1"
        ],
        [
         "14",
         "shoppee food, Grab, Be food, Ứng dụng giao hàng của cửa hàng, Con cặc Đoàn Minh Hào",
         "1"
        ],
        [
         "15",
         "shoppee food, Ứng dụng giao hàng của cửa hàng, ",
         "1"
        ]
       ],
       "shape": {
        "columns": 2,
        "rows": 16
       }
      },
      "text/html": [
       "<div>\n",
       "<style scoped>\n",
       "    .dataframe tbody tr th:only-of-type {\n",
       "        vertical-align: middle;\n",
       "    }\n",
       "\n",
       "    .dataframe tbody tr th {\n",
       "        vertical-align: top;\n",
       "    }\n",
       "\n",
       "    .dataframe thead th {\n",
       "        text-align: right;\n",
       "    }\n",
       "</style>\n",
       "<table border=\"1\" class=\"dataframe\">\n",
       "  <thead>\n",
       "    <tr style=\"text-align: right;\">\n",
       "      <th></th>\n",
       "      <th>Bạn có đã từng đặt trà sữa qua ứng dụng giao hàng nào?</th>\n",
       "      <th>count</th>\n",
       "    </tr>\n",
       "  </thead>\n",
       "  <tbody>\n",
       "    <tr>\n",
       "      <th>0</th>\n",
       "      <td>shoppee food</td>\n",
       "      <td>44</td>\n",
       "    </tr>\n",
       "    <tr>\n",
       "      <th>1</th>\n",
       "      <td>shoppee food, Grab</td>\n",
       "      <td>35</td>\n",
       "    </tr>\n",
       "    <tr>\n",
       "      <th>2</th>\n",
       "      <td>shoppee food, Grab, Be food</td>\n",
       "      <td>31</td>\n",
       "    </tr>\n",
       "    <tr>\n",
       "      <th>3</th>\n",
       "      <td>Grab</td>\n",
       "      <td>11</td>\n",
       "    </tr>\n",
       "    <tr>\n",
       "      <th>4</th>\n",
       "      <td>Be food</td>\n",
       "      <td>8</td>\n",
       "    </tr>\n",
       "    <tr>\n",
       "      <th>5</th>\n",
       "      <td>shoppee food, Be food</td>\n",
       "      <td>6</td>\n",
       "    </tr>\n",
       "    <tr>\n",
       "      <th>6</th>\n",
       "      <td>shoppee food, Grab, Be food, Ứng dụng giao hàn...</td>\n",
       "      <td>4</td>\n",
       "    </tr>\n",
       "    <tr>\n",
       "      <th>7</th>\n",
       "      <td>Ứng dụng giao hàng của cửa hàng</td>\n",
       "      <td>4</td>\n",
       "    </tr>\n",
       "    <tr>\n",
       "      <th>8</th>\n",
       "      <td>shoppee food, Be food, Ứng dụng giao hàng của ...</td>\n",
       "      <td>3</td>\n",
       "    </tr>\n",
       "    <tr>\n",
       "      <th>9</th>\n",
       "      <td>Grab, Be food</td>\n",
       "      <td>2</td>\n",
       "    </tr>\n",
       "    <tr>\n",
       "      <th>10</th>\n",
       "      <td>shoppee food, Grab, Ứng dụng giao hàng của cửa...</td>\n",
       "      <td>2</td>\n",
       "    </tr>\n",
       "    <tr>\n",
       "      <th>11</th>\n",
       "      <td>Be food, Ứng dụng giao hàng của cửa hàng</td>\n",
       "      <td>1</td>\n",
       "    </tr>\n",
       "    <tr>\n",
       "      <th>12</th>\n",
       "      <td>shoppee food, Ứng dụng giao hàng của cửa hàng</td>\n",
       "      <td>1</td>\n",
       "    </tr>\n",
       "    <tr>\n",
       "      <th>13</th>\n",
       "      <td>Grab, Be food, Ứng dụng giao hàng của cửa hàng</td>\n",
       "      <td>1</td>\n",
       "    </tr>\n",
       "    <tr>\n",
       "      <th>14</th>\n",
       "      <td>shoppee food, Grab, Be food, Ứng dụng giao hàn...</td>\n",
       "      <td>1</td>\n",
       "    </tr>\n",
       "    <tr>\n",
       "      <th>15</th>\n",
       "      <td>shoppee food, Ứng dụng giao hàng của cửa hàng,</td>\n",
       "      <td>1</td>\n",
       "    </tr>\n",
       "  </tbody>\n",
       "</table>\n",
       "</div>"
      ],
      "text/plain": [
       "   Bạn có đã từng đặt trà sữa qua ứng dụng giao hàng nào?  count\n",
       "0                                        shoppee food         44\n",
       "1                                  shoppee food, Grab         35\n",
       "2                         shoppee food, Grab, Be food         31\n",
       "3                                                Grab         11\n",
       "4                                             Be food          8\n",
       "5                               shoppee food, Be food          6\n",
       "6   shoppee food, Grab, Be food, Ứng dụng giao hàn...          4\n",
       "7                     Ứng dụng giao hàng của cửa hàng          4\n",
       "8   shoppee food, Be food, Ứng dụng giao hàng của ...          3\n",
       "9                                       Grab, Be food          2\n",
       "10  shoppee food, Grab, Ứng dụng giao hàng của cửa...          2\n",
       "11           Be food, Ứng dụng giao hàng của cửa hàng          1\n",
       "12      shoppee food, Ứng dụng giao hàng của cửa hàng          1\n",
       "13     Grab, Be food, Ứng dụng giao hàng của cửa hàng          1\n",
       "14  shoppee food, Grab, Be food, Ứng dụng giao hàn...          1\n",
       "15    shoppee food, Ứng dụng giao hàng của cửa hàng,           1"
      ]
     },
     "execution_count": 567,
     "metadata": {},
     "output_type": "execute_result"
    }
   ],
   "source": [
    "app"
   ]
  },
  {
   "cell_type": "code",
   "execution_count": 568,
   "metadata": {},
   "outputs": [],
   "source": [
    "dict_app = {}"
   ]
  },
  {
   "cell_type": "code",
   "execution_count": null,
   "metadata": {},
   "outputs": [],
   "source": [
    "for i in range(len(app)):\n",
    "  list_app = app[\"Bạn có đã từng đặt trà sữa qua ứng dụng giao hàng nào?\"][i]\n",
    "  amount = app[\"count\"][i]\n",
    "  for j in range(amount):\n",
    "    spec_apps = list_app.split(\", \")\n",
    "    for spec_app in spec_apps:\n",
    "      if spec_app in dict_app:\n",
    "        dict_app[spec_app] += 1\n",
    "      else:\n",
    "        dict_trademark[spec_trademark] = 1"
   ]
  }
 ],
 "metadata": {
  "kernelspec": {
   "display_name": "base",
   "language": "python",
   "name": "python3"
  },
  "language_info": {
   "codemirror_mode": {
    "name": "ipython",
    "version": 3
   },
   "file_extension": ".py",
   "mimetype": "text/x-python",
   "name": "python",
   "nbconvert_exporter": "python",
   "pygments_lexer": "ipython3",
   "version": "3.12.4"
  }
 },
 "nbformat": 4,
 "nbformat_minor": 2
}
